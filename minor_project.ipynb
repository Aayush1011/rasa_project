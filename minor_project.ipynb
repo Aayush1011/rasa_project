{
 "cells": [
  {
   "cell_type": "code",
   "execution_count": 21,
   "id": "654d3dbf",
   "metadata": {
    "scrolled": true
   },
   "outputs": [],
   "source": [
    "from msedge.selenium_tools import Edge, EdgeOptions\n",
    "from bs4 import BeautifulSoup\n",
    "import pandas as pd\n",
    "import requests\n",
    "import time"
   ]
  },
  {
   "cell_type": "code",
   "execution_count": 22,
   "id": "8c4593c2",
   "metadata": {},
   "outputs": [],
   "source": [
    "options = EdgeOptions()\n",
    "options.use_chromium = True\n",
    "options.add_argument(\"headless\")\n",
    "options.add_argument(\"disable-gpu\")\n",
    "driver = Edge(\"C:/webdrivers/msedgedriver.exe\", options=options)"
   ]
  },
  {
   "cell_type": "code",
   "execution_count": 25,
   "id": "2250308c",
   "metadata": {},
   "outputs": [
    {
     "ename": "KeyboardInterrupt",
     "evalue": "",
     "output_type": "error",
     "traceback": [
      "\u001b[1;31m---------------------------------------------------------------------------\u001b[0m",
      "\u001b[1;31mKeyboardInterrupt\u001b[0m                         Traceback (most recent call last)",
      "\u001b[1;32m<ipython-input-25-d82920a36ea2>\u001b[0m in \u001b[0;36m<module>\u001b[1;34m\u001b[0m\n\u001b[0;32m     11\u001b[0m     \u001b[1;32mfor\u001b[0m \u001b[0melem\u001b[0m \u001b[1;32min\u001b[0m \u001b[0msoup\u001b[0m\u001b[1;33m.\u001b[0m\u001b[0mfind_all\u001b[0m\u001b[1;33m(\u001b[0m\u001b[1;34m'a'\u001b[0m\u001b[1;33m,\u001b[0m \u001b[0mhref\u001b[0m\u001b[1;33m=\u001b[0m\u001b[1;32mTrue\u001b[0m\u001b[1;33m,\u001b[0m \u001b[0mclass_\u001b[0m\u001b[1;33m=\u001b[0m\u001b[1;34m\"item-title\"\u001b[0m\u001b[1;33m)\u001b[0m\u001b[1;33m:\u001b[0m\u001b[1;33m\u001b[0m\u001b[1;33m\u001b[0m\u001b[0m\n\u001b[0;32m     12\u001b[0m         \u001b[0mreq\u001b[0m \u001b[1;33m=\u001b[0m \u001b[0mrequests\u001b[0m\u001b[1;33m.\u001b[0m\u001b[0mget\u001b[0m\u001b[1;33m(\u001b[0m\u001b[0melem\u001b[0m\u001b[1;33m[\u001b[0m\u001b[1;34m\"href\"\u001b[0m\u001b[1;33m]\u001b[0m\u001b[1;33m)\u001b[0m\u001b[1;33m\u001b[0m\u001b[1;33m\u001b[0m\u001b[0m\n\u001b[1;32m---> 13\u001b[1;33m         \u001b[0mtime\u001b[0m\u001b[1;33m.\u001b[0m\u001b[0msleep\u001b[0m\u001b[1;33m(\u001b[0m\u001b[1;36m5\u001b[0m\u001b[1;33m)\u001b[0m\u001b[1;33m\u001b[0m\u001b[1;33m\u001b[0m\u001b[0m\n\u001b[0m\u001b[0;32m     14\u001b[0m         \u001b[0msoup_lap\u001b[0m \u001b[1;33m=\u001b[0m \u001b[0mBeautifulSoup\u001b[0m\u001b[1;33m(\u001b[0m\u001b[0mreq\u001b[0m\u001b[1;33m.\u001b[0m\u001b[0mcontent\u001b[0m\u001b[1;33m,\u001b[0m \u001b[1;34m'html.parser'\u001b[0m\u001b[1;33m)\u001b[0m\u001b[1;33m\u001b[0m\u001b[1;33m\u001b[0m\u001b[0m\n\u001b[0;32m     15\u001b[0m         \u001b[0mdesc1\u001b[0m \u001b[1;33m=\u001b[0m \u001b[0msoup_lap\u001b[0m\u001b[1;33m.\u001b[0m\u001b[0mfind_all\u001b[0m\u001b[1;33m(\u001b[0m\u001b[1;34m'th'\u001b[0m\u001b[1;33m)\u001b[0m\u001b[1;33m\u001b[0m\u001b[1;33m\u001b[0m\u001b[0m\n",
      "\u001b[1;31mKeyboardInterrupt\u001b[0m: "
     ]
    }
   ],
   "source": [
    "df = pd.read_csv('lap20.csv')\n",
    "lap_page = \"https://www.newegg.com/global/in-en/p/pl?d=acer&N=101297918&isdeptsrh=1&page=1\"\n",
    "req = requests.get(lap_page)    \n",
    "soup = BeautifulSoup(req.content, 'html.parser')\n",
    "time.sleep(5)\n",
    "driver.get(lap_page)\n",
    "element = driver.find_element_by_css_selector(\"#app > div.page-content > section > div > div > div.row-body > div:nth-child(1) > div > div > div.row-body > div > div.list-wrap > div:nth-child(2) > div.list-tool-pagination > div > div:nth-child(2) > button\")\n",
    "time.sleep(5)\n",
    "#while soup.find('span', class_=\"list-tool-pagination-text\").text != \"Page 100/100\":\n",
    "while element:\n",
    "    for elem in soup.find_all('a', href=True, class_=\"item-title\"):\n",
    "        req = requests.get(elem[\"href\"])\n",
    "        time.sleep(5)\n",
    "        soup_lap = BeautifulSoup(req.content, 'html.parser')\n",
    "        desc1 = soup_lap.find_all('th')\n",
    "        desc2 = soup_lap.find_all('td')\n",
    "        dicto = dict()\n",
    "\n",
    "        for first, second in zip(desc1, desc2):\n",
    "            if first.text == \"Products\":\n",
    "                break\n",
    "            ulist = []\n",
    "            [ulist.append(x.lower()) for x in first.text.split() if x.lower() not in ulist]\n",
    "            unique_first = \"_\".join(ulist)\n",
    "            #unique_second = second.text.encode('ascii', errors='ignore').decode('utf-8')\n",
    "            dicto[unique_first] = second.text\n",
    "        try:\n",
    "            dicto[\"price\"] = soup_lap.find('div', class_='price-current').text\n",
    "        except:\n",
    "            pass\n",
    "        df = df.append(dicto,ignore_index=True)\n",
    "    driver.get(lap_page)\n",
    "    time.sleep(5)\n",
    "    element = driver.find_element_by_css_selector(\"#app > div.page-content > section > div > div > div.row-body > div:nth-child(1) > div > div > div.row-body > div > div.list-wrap > div:nth-child(2) > div.list-tool-pagination > div > div:nth-child(2) > button\")\n",
    "    driver.execute_script(\"arguments[0].click();\", element)\n",
    "    lap_page = driver.current_url\n",
    "    req = requests.get(lap_page)\n",
    "    time.sleep(5)\n",
    "    soup = BeautifulSoup(req.content, 'html.parser')"
   ]
  },
  {
   "cell_type": "code",
   "execution_count": 27,
   "id": "862478e7",
   "metadata": {},
   "outputs": [],
   "source": [
    "df.to_csv('lap23.csv')"
   ]
  },
  {
   "cell_type": "code",
   "execution_count": 20,
   "id": "af7f8130",
   "metadata": {},
   "outputs": [
    {
     "data": {
      "text/html": [
       "<div>\n",
       "<style scoped>\n",
       "    .dataframe tbody tr th:only-of-type {\n",
       "        vertical-align: middle;\n",
       "    }\n",
       "\n",
       "    .dataframe tbody tr th {\n",
       "        vertical-align: top;\n",
       "    }\n",
       "\n",
       "    .dataframe thead th {\n",
       "        text-align: right;\n",
       "    }\n",
       "</style>\n",
       "<table border=\"1\" class=\"dataframe\">\n",
       "  <thead>\n",
       "    <tr style=\"text-align: right;\">\n",
       "      <th></th>\n",
       "      <th>audio_ports</th>\n",
       "      <th>brand</th>\n",
       "      <th>color</th>\n",
       "      <th>core_name</th>\n",
       "      <th>cpu</th>\n",
       "      <th>cpu_l3_cache</th>\n",
       "      <th>cpu_speed</th>\n",
       "      <th>cpu_type</th>\n",
       "      <th>date_first_available</th>\n",
       "      <th>dimensions_(w_x_d_h)</th>\n",
       "      <th>...</th>\n",
       "      <th>other_port</th>\n",
       "      <th>smart_cache</th>\n",
       "      <th>lan</th>\n",
       "      <th>chipset</th>\n",
       "      <th>cpu_support</th>\n",
       "      <th>optical_drive_spec</th>\n",
       "      <th>accidental_damage_warranty</th>\n",
       "      <th>cpu_l2_cache</th>\n",
       "      <th>tech</th>\n",
       "      <th>thunderbolt_3</th>\n",
       "    </tr>\n",
       "  </thead>\n",
       "  <tbody>\n",
       "    <tr>\n",
       "      <th>0</th>\n",
       "      <td>1 x Headphone/Microphone Combo Jack</td>\n",
       "      <td>HP</td>\n",
       "      <td>Silver</td>\n",
       "      <td>Skylake</td>\n",
       "      <td>Intel Core i5-6300U 2.40 GHz</td>\n",
       "      <td>3 MB</td>\n",
       "      <td>6300U (2.40GHz)</td>\n",
       "      <td>Intel Core i5 6th Gen</td>\n",
       "      <td>December 05, 2019</td>\n",
       "      <td>13.30\" x 9.30\" x 0.70\"</td>\n",
       "      <td>...</td>\n",
       "      <td>NaN</td>\n",
       "      <td>NaN</td>\n",
       "      <td>NaN</td>\n",
       "      <td>NaN</td>\n",
       "      <td>NaN</td>\n",
       "      <td>NaN</td>\n",
       "      <td>NaN</td>\n",
       "      <td>NaN</td>\n",
       "      <td>NaN</td>\n",
       "      <td>NaN</td>\n",
       "    </tr>\n",
       "    <tr>\n",
       "      <th>1</th>\n",
       "      <td>1 x 3.5mm Combo Audio Jack</td>\n",
       "      <td>ASUS</td>\n",
       "      <td>Star Black (Plastic)</td>\n",
       "      <td>NaN</td>\n",
       "      <td>Intel Celeron N4020 1.10 GHz</td>\n",
       "      <td>NaN</td>\n",
       "      <td>N4020 (1.10GHz)</td>\n",
       "      <td>Intel Celeron</td>\n",
       "      <td>January 06, 2021</td>\n",
       "      <td>12.80\" x 8.50\" x 0.71\"-0.72\"</td>\n",
       "      <td>...</td>\n",
       "      <td>NaN</td>\n",
       "      <td>NaN</td>\n",
       "      <td>NaN</td>\n",
       "      <td>NaN</td>\n",
       "      <td>NaN</td>\n",
       "      <td>NaN</td>\n",
       "      <td>NaN</td>\n",
       "      <td>NaN</td>\n",
       "      <td>NaN</td>\n",
       "      <td>NaN</td>\n",
       "    </tr>\n",
       "    <tr>\n",
       "      <th>2</th>\n",
       "      <td>1 x Headphone/Microphone Combo Jack</td>\n",
       "      <td>DELL</td>\n",
       "      <td>NaN</td>\n",
       "      <td>NaN</td>\n",
       "      <td>Intel Pentium N4200 (1.1 GHz)</td>\n",
       "      <td>NaN</td>\n",
       "      <td>N4200 (1.1GHz)</td>\n",
       "      <td>Intel Pentium</td>\n",
       "      <td>February 25, 2021</td>\n",
       "      <td>NaN</td>\n",
       "      <td>...</td>\n",
       "      <td>NaN</td>\n",
       "      <td>NaN</td>\n",
       "      <td>NaN</td>\n",
       "      <td>NaN</td>\n",
       "      <td>NaN</td>\n",
       "      <td>NaN</td>\n",
       "      <td>NaN</td>\n",
       "      <td>NaN</td>\n",
       "      <td>NaN</td>\n",
       "      <td>NaN</td>\n",
       "    </tr>\n",
       "    <tr>\n",
       "      <th>3</th>\n",
       "      <td>Mic-in/Headphone-out Combo</td>\n",
       "      <td>MSI</td>\n",
       "      <td>Carbon Gray</td>\n",
       "      <td>Tiger Lake</td>\n",
       "      <td>Intel Core i7-1195G7 2.90 GHz</td>\n",
       "      <td>12 MB</td>\n",
       "      <td>1195G7 (2.90GHz)</td>\n",
       "      <td>Intel Core i7 11th Gen</td>\n",
       "      <td>November 01, 2021</td>\n",
       "      <td>14.05\" x 9.20\" x 0.67\"</td>\n",
       "      <td>...</td>\n",
       "      <td>NaN</td>\n",
       "      <td>NaN</td>\n",
       "      <td>NaN</td>\n",
       "      <td>NaN</td>\n",
       "      <td>NaN</td>\n",
       "      <td>NaN</td>\n",
       "      <td>NaN</td>\n",
       "      <td>NaN</td>\n",
       "      <td>NaN</td>\n",
       "      <td>NaN</td>\n",
       "    </tr>\n",
       "    <tr>\n",
       "      <th>4</th>\n",
       "      <td>NaN</td>\n",
       "      <td>NaN</td>\n",
       "      <td>NaN</td>\n",
       "      <td>NaN</td>\n",
       "      <td>NaN</td>\n",
       "      <td>NaN</td>\n",
       "      <td>NaN</td>\n",
       "      <td>NaN</td>\n",
       "      <td>January 06, 2022</td>\n",
       "      <td>NaN</td>\n",
       "      <td>...</td>\n",
       "      <td>NaN</td>\n",
       "      <td>NaN</td>\n",
       "      <td>NaN</td>\n",
       "      <td>NaN</td>\n",
       "      <td>NaN</td>\n",
       "      <td>NaN</td>\n",
       "      <td>NaN</td>\n",
       "      <td>NaN</td>\n",
       "      <td>NaN</td>\n",
       "      <td>NaN</td>\n",
       "    </tr>\n",
       "    <tr>\n",
       "      <th>...</th>\n",
       "      <td>...</td>\n",
       "      <td>...</td>\n",
       "      <td>...</td>\n",
       "      <td>...</td>\n",
       "      <td>...</td>\n",
       "      <td>...</td>\n",
       "      <td>...</td>\n",
       "      <td>...</td>\n",
       "      <td>...</td>\n",
       "      <td>...</td>\n",
       "      <td>...</td>\n",
       "      <td>...</td>\n",
       "      <td>...</td>\n",
       "      <td>...</td>\n",
       "      <td>...</td>\n",
       "      <td>...</td>\n",
       "      <td>...</td>\n",
       "      <td>...</td>\n",
       "      <td>...</td>\n",
       "      <td>...</td>\n",
       "      <td>...</td>\n",
       "    </tr>\n",
       "    <tr>\n",
       "      <th>299</th>\n",
       "      <td>1 x Headphone/Microphone Combo Jack</td>\n",
       "      <td>MSI</td>\n",
       "      <td>Black</td>\n",
       "      <td>NaN</td>\n",
       "      <td>NaN</td>\n",
       "      <td>24MB Cache</td>\n",
       "      <td>2.30GHz</td>\n",
       "      <td>Intel Core i7 11th Gen</td>\n",
       "      <td>December 23, 2021</td>\n",
       "      <td>NaN</td>\n",
       "      <td>...</td>\n",
       "      <td>NaN</td>\n",
       "      <td>NaN</td>\n",
       "      <td>NaN</td>\n",
       "      <td>NaN</td>\n",
       "      <td>NaN</td>\n",
       "      <td>NaN</td>\n",
       "      <td>NaN</td>\n",
       "      <td>NaN</td>\n",
       "      <td>NaN</td>\n",
       "      <td>NaN</td>\n",
       "    </tr>\n",
       "    <tr>\n",
       "      <th>300</th>\n",
       "      <td>1 x Headphone/Microphone Combo Jack</td>\n",
       "      <td>MSI</td>\n",
       "      <td>Black</td>\n",
       "      <td>NaN</td>\n",
       "      <td>NaN</td>\n",
       "      <td>24MB Cache</td>\n",
       "      <td>2.30GHz</td>\n",
       "      <td>Intel Core i7 11th Gen</td>\n",
       "      <td>December 23, 2021</td>\n",
       "      <td>NaN</td>\n",
       "      <td>...</td>\n",
       "      <td>NaN</td>\n",
       "      <td>NaN</td>\n",
       "      <td>NaN</td>\n",
       "      <td>NaN</td>\n",
       "      <td>NaN</td>\n",
       "      <td>NaN</td>\n",
       "      <td>NaN</td>\n",
       "      <td>NaN</td>\n",
       "      <td>NaN</td>\n",
       "      <td>NaN</td>\n",
       "    </tr>\n",
       "    <tr>\n",
       "      <th>301</th>\n",
       "      <td>1 x Headphone/Microphone Combo Jack</td>\n",
       "      <td>ASUS</td>\n",
       "      <td>Gray</td>\n",
       "      <td>NaN</td>\n",
       "      <td>NaN</td>\n",
       "      <td>12MB Cache</td>\n",
       "      <td>2.60GHz</td>\n",
       "      <td>Intel Core i7 10th Gen</td>\n",
       "      <td>December 23, 2021</td>\n",
       "      <td>NaN</td>\n",
       "      <td>...</td>\n",
       "      <td>NaN</td>\n",
       "      <td>NaN</td>\n",
       "      <td>NaN</td>\n",
       "      <td>NaN</td>\n",
       "      <td>NaN</td>\n",
       "      <td>NaN</td>\n",
       "      <td>NaN</td>\n",
       "      <td>NaN</td>\n",
       "      <td>NaN</td>\n",
       "      <td>NaN</td>\n",
       "    </tr>\n",
       "    <tr>\n",
       "      <th>302</th>\n",
       "      <td>1 x Headphone/Microphone Combo Jack</td>\n",
       "      <td>MSI</td>\n",
       "      <td>Black</td>\n",
       "      <td>NaN</td>\n",
       "      <td>NaN</td>\n",
       "      <td>24MB Cache</td>\n",
       "      <td>2.30GHz</td>\n",
       "      <td>Intel Core i7 11th Gen</td>\n",
       "      <td>December 23, 2021</td>\n",
       "      <td>NaN</td>\n",
       "      <td>...</td>\n",
       "      <td>NaN</td>\n",
       "      <td>NaN</td>\n",
       "      <td>NaN</td>\n",
       "      <td>NaN</td>\n",
       "      <td>NaN</td>\n",
       "      <td>NaN</td>\n",
       "      <td>NaN</td>\n",
       "      <td>NaN</td>\n",
       "      <td>NaN</td>\n",
       "      <td>NaN</td>\n",
       "    </tr>\n",
       "    <tr>\n",
       "      <th>303</th>\n",
       "      <td>1 x Headphone/Microphone Combo Jack</td>\n",
       "      <td>MSI</td>\n",
       "      <td>Black</td>\n",
       "      <td>NaN</td>\n",
       "      <td>NaN</td>\n",
       "      <td>24MB Cache</td>\n",
       "      <td>2.30GHz</td>\n",
       "      <td>Intel Core i7 11th Gen</td>\n",
       "      <td>December 23, 2021</td>\n",
       "      <td>NaN</td>\n",
       "      <td>...</td>\n",
       "      <td>NaN</td>\n",
       "      <td>NaN</td>\n",
       "      <td>NaN</td>\n",
       "      <td>NaN</td>\n",
       "      <td>NaN</td>\n",
       "      <td>NaN</td>\n",
       "      <td>NaN</td>\n",
       "      <td>NaN</td>\n",
       "      <td>NaN</td>\n",
       "      <td>NaN</td>\n",
       "    </tr>\n",
       "  </tbody>\n",
       "</table>\n",
       "<p>304 rows × 87 columns</p>\n",
       "</div>"
      ],
      "text/plain": [
       "                             audio_ports brand                 color  \\\n",
       "0    1 x Headphone/Microphone Combo Jack    HP                Silver   \n",
       "1             1 x 3.5mm Combo Audio Jack  ASUS  Star Black (Plastic)   \n",
       "2    1 x Headphone/Microphone Combo Jack  DELL                   NaN   \n",
       "3             Mic-in/Headphone-out Combo   MSI           Carbon Gray   \n",
       "4                                    NaN   NaN                   NaN   \n",
       "..                                   ...   ...                   ...   \n",
       "299  1 x Headphone/Microphone Combo Jack   MSI                 Black   \n",
       "300  1 x Headphone/Microphone Combo Jack   MSI                 Black   \n",
       "301  1 x Headphone/Microphone Combo Jack  ASUS                  Gray   \n",
       "302  1 x Headphone/Microphone Combo Jack   MSI                 Black   \n",
       "303  1 x Headphone/Microphone Combo Jack   MSI                 Black   \n",
       "\n",
       "      core_name                            cpu cpu_l3_cache         cpu_speed  \\\n",
       "0       Skylake   Intel Core i5-6300U 2.40 GHz         3 MB   6300U (2.40GHz)   \n",
       "1           NaN   Intel Celeron N4020 1.10 GHz          NaN   N4020 (1.10GHz)   \n",
       "2           NaN  Intel Pentium N4200 (1.1 GHz)          NaN    N4200 (1.1GHz)   \n",
       "3    Tiger Lake  Intel Core i7-1195G7 2.90 GHz        12 MB  1195G7 (2.90GHz)   \n",
       "4           NaN                            NaN          NaN               NaN   \n",
       "..          ...                            ...          ...               ...   \n",
       "299         NaN                            NaN   24MB Cache           2.30GHz   \n",
       "300         NaN                            NaN   24MB Cache           2.30GHz   \n",
       "301         NaN                            NaN   12MB Cache           2.60GHz   \n",
       "302         NaN                            NaN   24MB Cache           2.30GHz   \n",
       "303         NaN                            NaN   24MB Cache           2.30GHz   \n",
       "\n",
       "                   cpu_type date_first_available  \\\n",
       "0     Intel Core i5 6th Gen    December 05, 2019   \n",
       "1             Intel Celeron     January 06, 2021   \n",
       "2             Intel Pentium    February 25, 2021   \n",
       "3    Intel Core i7 11th Gen    November 01, 2021   \n",
       "4                       NaN     January 06, 2022   \n",
       "..                      ...                  ...   \n",
       "299  Intel Core i7 11th Gen    December 23, 2021   \n",
       "300  Intel Core i7 11th Gen    December 23, 2021   \n",
       "301  Intel Core i7 10th Gen    December 23, 2021   \n",
       "302  Intel Core i7 11th Gen    December 23, 2021   \n",
       "303  Intel Core i7 11th Gen    December 23, 2021   \n",
       "\n",
       "             dimensions_(w_x_d_h)  ... other_port smart_cache  lan chipset  \\\n",
       "0          13.30\" x 9.30\" x 0.70\"  ...        NaN         NaN  NaN     NaN   \n",
       "1    12.80\" x 8.50\" x 0.71\"-0.72\"  ...        NaN         NaN  NaN     NaN   \n",
       "2                             NaN  ...        NaN         NaN  NaN     NaN   \n",
       "3          14.05\" x 9.20\" x 0.67\"  ...        NaN         NaN  NaN     NaN   \n",
       "4                             NaN  ...        NaN         NaN  NaN     NaN   \n",
       "..                            ...  ...        ...         ...  ...     ...   \n",
       "299                           NaN  ...        NaN         NaN  NaN     NaN   \n",
       "300                           NaN  ...        NaN         NaN  NaN     NaN   \n",
       "301                           NaN  ...        NaN         NaN  NaN     NaN   \n",
       "302                           NaN  ...        NaN         NaN  NaN     NaN   \n",
       "303                           NaN  ...        NaN         NaN  NaN     NaN   \n",
       "\n",
       "    cpu_support optical_drive_spec accidental_damage_warranty cpu_l2_cache  \\\n",
       "0           NaN                NaN                        NaN          NaN   \n",
       "1           NaN                NaN                        NaN          NaN   \n",
       "2           NaN                NaN                        NaN          NaN   \n",
       "3           NaN                NaN                        NaN          NaN   \n",
       "4           NaN                NaN                        NaN          NaN   \n",
       "..          ...                ...                        ...          ...   \n",
       "299         NaN                NaN                        NaN          NaN   \n",
       "300         NaN                NaN                        NaN          NaN   \n",
       "301         NaN                NaN                        NaN          NaN   \n",
       "302         NaN                NaN                        NaN          NaN   \n",
       "303         NaN                NaN                        NaN          NaN   \n",
       "\n",
       "    tech thunderbolt_3  \n",
       "0    NaN           NaN  \n",
       "1    NaN           NaN  \n",
       "2    NaN           NaN  \n",
       "3    NaN           NaN  \n",
       "4    NaN           NaN  \n",
       "..   ...           ...  \n",
       "299  NaN           NaN  \n",
       "300  NaN           NaN  \n",
       "301  NaN           NaN  \n",
       "302  NaN           NaN  \n",
       "303  NaN           NaN  \n",
       "\n",
       "[304 rows x 87 columns]"
      ]
     },
     "execution_count": 20,
     "metadata": {},
     "output_type": "execute_result"
    }
   ],
   "source": [
    "#del df\n",
    "# df = df.loc[:, ~df.columns.duplicated()]\n",
    "# df.columns.is_unique\n",
    "#df.to_csv('lap10.csv')\n",
    "#df"
   ]
  },
  {
   "cell_type": "code",
   "execution_count": 3,
   "id": "6d79b629",
   "metadata": {},
   "outputs": [],
   "source": [
    "lap_page = \"https://www.newegg.com/global/in-en/p/pl?d=laptops&Order=6&page=2\"\n",
    "driver.get(lap_page)\n",
    "time.sleep(10)\n",
    "element = driver.find_element_by_css_selector(\"#app > div.page-content > section > div > div > div.row-body > div:nth-child(1) > div > div > div.row-body > div > div.list-wrap > div:nth-child(1) > div.list-tool-pagination > div > div:nth-child(2) > button\")\n",
    "driver.execute_script(\"arguments[0].click();\", element)"
   ]
  },
  {
   "cell_type": "code",
   "execution_count": 11,
   "id": "b61ba2e8",
   "metadata": {},
   "outputs": [],
   "source": [
    "import pandas as pd\n",
    "import numpy as np\n",
    "import re\n",
    "import matplotlib.pyplot as plt"
   ]
  },
  {
   "cell_type": "code",
   "execution_count": 3,
   "id": "8e953aa3",
   "metadata": {},
   "outputs": [],
   "source": [
    "df = pd.read_csv(\"lap13.csv\")"
   ]
  },
  {
   "cell_type": "code",
   "execution_count": 4,
   "id": "3c590ae5",
   "metadata": {},
   "outputs": [],
   "source": [
    "df['price'] = df['price'].replace({',': '', '₹': ''}, regex=True)"
   ]
  },
  {
   "cell_type": "code",
   "execution_count": 5,
   "id": "0b4cac95",
   "metadata": {},
   "outputs": [
    {
     "data": {
      "text/plain": [
       "0         87615\n",
       "1        101062\n",
       "2         78225\n",
       "3         87603\n",
       "4         79059\n",
       "         ...   \n",
       "3172     246724\n",
       "3173     202228\n",
       "3174     313956\n",
       "3175     480267\n",
       "3176     238762\n",
       "Name: price, Length: 3177, dtype: object"
      ]
     },
     "execution_count": 5,
     "metadata": {},
     "output_type": "execute_result"
    }
   ],
   "source": [
    "df['price']"
   ]
  },
  {
   "cell_type": "code",
   "execution_count": 6,
   "id": "783096ab",
   "metadata": {},
   "outputs": [],
   "source": [
    "df.price = df.price.astype(int)"
   ]
  },
  {
   "cell_type": "code",
   "execution_count": 7,
   "id": "2f06e266",
   "metadata": {},
   "outputs": [],
   "source": [
    "df.price = df.price * 1.6"
   ]
  },
  {
   "cell_type": "code",
   "execution_count": 8,
   "id": "6f8cda61",
   "metadata": {},
   "outputs": [],
   "source": [
    "gpu = df[\"gpu/vpu\"].unique()"
   ]
  },
  {
   "cell_type": "code",
   "execution_count": 20,
   "id": "20386304",
   "metadata": {},
   "outputs": [
    {
     "data": {
      "text/plain": [
       "array(['NVIDIA GeForce MX350', 'Intel Iris Xe Graphics',\n",
       "       'AMD Radeon Graphics', 'NVIDIA GeForce GTX 1650',\n",
       "       'NVIDIA GeForce RTX 3050 Laptop GPU',\n",
       "       'NVIDIA GeForce RTX 3070 Laptop GPU', 'Intel UHD Graphics',\n",
       "       'Intel HD Graphics 5500', 'NVIDIA GeForce RTX 3060 Laptop GPU',\n",
       "       'NVIDIA Quadro T2000', 'Intel HD Graphics 520',\n",
       "       'Intel UHD Graphics 600', 'Intel HD Graphics 4400',\n",
       "       'Intel Iris Plus Graphics', 'Adreno 690',\n",
       "       'NVIDIA GeForce GTX 1650 Max-Q',\n",
       "       'NVIDIA GeForce RTX 3050 Ti Laptop GPU', 'Intel HD Graphics 610',\n",
       "       'NVIDIA GeForce RTX 3080 Laptop GPU', 'Intel HD Graphics 620',\n",
       "       'NVIDIA GeForce GTX 1650 Ti', 'Intel UHD Graphics 620',\n",
       "       'Intel UHD Graphics 615', 'Radeon R3 Graphics',\n",
       "       'AMD Radeon Vega 3', 'NVIDIA T500', 'NVIDIA GeForce MX450',\n",
       "       'Intel UHD Graphics 605', 'NVIDIA Quadro P520', 'NVIDIA T1200',\n",
       "       'Intel HD Graphics 4600', 'Intel HD Graphics 630',\n",
       "       'AMD Radeon RX 5500M', 'NVIDIA Quadro M1000M', 'AMD Radeon Vega 6',\n",
       "       'AMD Radeon Vega 8', 'NVIDIA Quadro T500 4GB',\n",
       "       'Intel HD Graphics 505', 'NVIDIA GeForce GTX 1660 Ti',\n",
       "       'NVIDIA GeForce RTX 2060', 'NVIDIA Quadro RTX 3000', 'NVIDIA T600',\n",
       "       'AMD Radeon RX Vega 10', 'Integrated Graphics',\n",
       "       'NVIDIA Quadro P600', 'NVIDIA GeForce RTX 2070',\n",
       "       'NVIDIA GeForce GTX 1050', 'NVIDIA GeForce MX250',\n",
       "       'NVIDIA Quadro T1000', 'Intel HD Graphics'], dtype=object)"
      ]
     },
     "execution_count": 20,
     "metadata": {},
     "output_type": "execute_result"
    }
   ],
   "source": [
    "gpu"
   ]
  },
  {
   "cell_type": "code",
   "execution_count": 10,
   "id": "027e1650",
   "metadata": {},
   "outputs": [
    {
     "data": {
      "text/plain": [
       "50"
      ]
     },
     "execution_count": 10,
     "metadata": {},
     "output_type": "execute_result"
    }
   ],
   "source": [
    "gpu_bench = [2869, 2831, 2500, 6968, 9097, 14736, 1040, 580, 12435, 7143, 861, 329, 520, 1856, 400, 5891, 9367, 671, 16396, 919, 7455, 1040, 771, 302, 885, 3600, 3745, 373, 2153, 8000, 626, 1134, 4049, 3023, 1271, 1596, 3600, 345, 10176, 11354, 11239, 6389, 1713, 550, 3302, 12354, 4461, 2541, 6483, 595]\n",
    "len(gpu_bench)"
   ]
  },
  {
   "cell_type": "code",
   "execution_count": 18,
   "id": "311ecd77",
   "metadata": {},
   "outputs": [],
   "source": [
    "gpu = np.delete(gpu, 12)"
   ]
  },
  {
   "cell_type": "code",
   "execution_count": 21,
   "id": "31718ec4",
   "metadata": {},
   "outputs": [],
   "source": [
    "d = dict(zip(gpu, gpu_bench))"
   ]
  },
  {
   "cell_type": "code",
   "execution_count": 22,
   "id": "86a6ea91",
   "metadata": {},
   "outputs": [
    {
     "data": {
      "text/plain": [
       "{'NVIDIA GeForce MX350': 2869,\n",
       " 'Intel Iris Xe Graphics': 2831,\n",
       " 'AMD Radeon Graphics': 2500,\n",
       " 'NVIDIA GeForce GTX 1650': 6968,\n",
       " 'NVIDIA GeForce RTX 3050 Laptop GPU': 9097,\n",
       " 'NVIDIA GeForce RTX 3070 Laptop GPU': 14736,\n",
       " 'Intel UHD Graphics': 1040,\n",
       " 'Intel HD Graphics 5500': 580,\n",
       " 'NVIDIA GeForce RTX 3060 Laptop GPU': 12435,\n",
       " 'NVIDIA Quadro T2000': 7143,\n",
       " 'Intel HD Graphics 520': 861,\n",
       " 'Intel UHD Graphics 600': 329,\n",
       " 'Intel HD Graphics 4400': 520,\n",
       " 'Intel Iris Plus Graphics': 1856,\n",
       " 'Adreno 690': 400,\n",
       " 'NVIDIA GeForce GTX 1650 Max-Q': 5891,\n",
       " 'NVIDIA GeForce RTX 3050 Ti Laptop GPU': 9367,\n",
       " 'Intel HD Graphics 610': 671,\n",
       " 'NVIDIA GeForce RTX 3080 Laptop GPU': 16396,\n",
       " 'Intel HD Graphics 620': 919,\n",
       " 'NVIDIA GeForce GTX 1650 Ti': 7455,\n",
       " 'Intel UHD Graphics 620': 1040,\n",
       " 'Intel UHD Graphics 615': 771,\n",
       " 'Radeon R3 Graphics': 302,\n",
       " 'AMD Radeon Vega 3': 885,\n",
       " 'NVIDIA T500': 3600,\n",
       " 'NVIDIA GeForce MX450': 3745,\n",
       " 'Intel UHD Graphics 605': 373,\n",
       " 'NVIDIA Quadro P520': 2153,\n",
       " 'NVIDIA T1200': 8000,\n",
       " 'Intel HD Graphics 4600': 626,\n",
       " 'Intel HD Graphics 630': 1134,\n",
       " 'AMD Radeon RX 5500M': 4049,\n",
       " 'NVIDIA Quadro M1000M': 3023,\n",
       " 'AMD Radeon Vega 6': 1271,\n",
       " 'AMD Radeon Vega 8': 1596,\n",
       " 'NVIDIA Quadro T500 4GB': 3600,\n",
       " 'Intel HD Graphics 505': 345,\n",
       " 'NVIDIA GeForce GTX 1660 Ti': 10176,\n",
       " 'NVIDIA GeForce RTX 2060': 11354,\n",
       " 'NVIDIA Quadro RTX 3000': 11239,\n",
       " 'NVIDIA T600': 6389,\n",
       " 'AMD Radeon RX Vega 10': 1713,\n",
       " 'Integrated Graphics': 550,\n",
       " 'NVIDIA Quadro P600': 3302,\n",
       " 'NVIDIA GeForce RTX 2070': 12354,\n",
       " 'NVIDIA GeForce GTX 1050': 4461,\n",
       " 'NVIDIA GeForce MX250': 2541,\n",
       " 'NVIDIA Quadro T1000': 6483,\n",
       " 'Intel HD Graphics': 595}"
      ]
     },
     "execution_count": 22,
     "metadata": {},
     "output_type": "execute_result"
    }
   ],
   "source": [
    "d"
   ]
  },
  {
   "cell_type": "code",
   "execution_count": 23,
   "id": "98cac0ef",
   "metadata": {},
   "outputs": [],
   "source": [
    "df.loc[:, 'graphics_card_score'] = df['gpu/vpu'].map(d)"
   ]
  },
  {
   "cell_type": "code",
   "execution_count": 24,
   "id": "3757f3b7",
   "metadata": {},
   "outputs": [],
   "source": [
    "df.to_csv('lap14.csv')"
   ]
  },
  {
   "cell_type": "code",
   "execution_count": 46,
   "id": "dc5aca8c",
   "metadata": {},
   "outputs": [],
   "source": [
    "cpu = df[\"cpu\"].unique()"
   ]
  },
  {
   "cell_type": "code",
   "execution_count": 48,
   "id": "8bc17a83",
   "metadata": {},
   "outputs": [],
   "source": [
    "cpu = np.delete(cpu, 2)"
   ]
  },
  {
   "cell_type": "code",
   "execution_count": 50,
   "id": "019e48cc",
   "metadata": {},
   "outputs": [],
   "source": [
    "cpu = list(cpu)"
   ]
  },
  {
   "cell_type": "code",
   "execution_count": 52,
   "id": "f0c83f2d",
   "metadata": {},
   "outputs": [],
   "source": [
    "cpu = sorted(cpu)"
   ]
  },
  {
   "cell_type": "code",
   "execution_count": 61,
   "id": "6393d916",
   "metadata": {},
   "outputs": [],
   "source": [
    "cpu_bench = [10175, 6346, 2489, 2489, 4016, 6855, 6855, 7118, 11154, 11154, 13236, 13236, 17377, 15456, 7347, 8290, 13715, 13715, 19118, 'amd ryzen 7 4980u 2.00 ghz', 16380, 16380, 21653, 21653, 15528, 17938, 19523, 1400, 1595, 1595, 'Intel Celeron N5100 1.10 GHz', 5180, 4047, 6346, 6346, 10018, 10018, 6461, 6461, 8756, 8756, 6703, 6703, 7798, 7798, 8244, 8244, 8372, 8372, 11772, 14550, 11241, 10175, 10715, 15933, 15933, 10650, 10611, 2502, 2519, 2733, 3028, 3258, 3409, 3742, 5947, 6131, 6338, 6380, 7050, 7050, 8767, 8767, 12451, 12451, 12200, 15518, 12379, 12305, 11448, 10316, 10632, 10632, 10632, 21632, 21632, 11018, 11631, 2964, 3508, 6938, 3608, 7157, 5938, 6367, 11239, 21939, 3026, 2257, 5350, 2136, 2136, 2685, 'Intel i7 10th Gen', 11241, 4205]"
   ]
  },
  {
   "cell_type": "code",
   "execution_count": 62,
   "id": "67de2f16",
   "metadata": {},
   "outputs": [
    {
     "name": "stdout",
     "output_type": "stream",
     "text": [
      "106\n"
     ]
    },
    {
     "data": {
      "text/plain": [
       "106"
      ]
     },
     "execution_count": 62,
     "metadata": {},
     "output_type": "execute_result"
    }
   ],
   "source": [
    "print(len(cpu))\n",
    "len(cpu_bench)"
   ]
  },
  {
   "cell_type": "code",
   "execution_count": 57,
   "id": "dc45b5a2",
   "metadata": {},
   "outputs": [
    {
     "data": {
      "text/plain": [
       "['11th Gen Intel® Core i5-1135G7 Processor',\n",
       " '11th Generation Intel Core i3-1115G4 Processor (Dual-Core, 3.0 GHz Upto 4.1 GHz, 6 MB Cache)',\n",
       " 'AMD 3000 Series 3020e',\n",
       " 'AMD Athlon 3020e',\n",
       " 'AMD Ryzen 3 3250U',\n",
       " 'AMD Ryzen 5 3450U',\n",
       " 'AMD Ryzen 5 3450U 2.10 GHz',\n",
       " 'AMD Ryzen 5 3500U',\n",
       " 'AMD Ryzen 5 4500U',\n",
       " 'AMD Ryzen 5 4500U Six-Core Processor 2.30GHz Up to 4.00GHz',\n",
       " 'AMD Ryzen 5 5500U',\n",
       " 'AMD Ryzen 5 5500U 2.10 GHz',\n",
       " 'AMD Ryzen 5 5600H 3.30 GHz',\n",
       " 'AMD Ryzen 5 PRO 5650U 2.30 GHz',\n",
       " 'AMD Ryzen 7 3700U',\n",
       " 'AMD Ryzen 7 3750H',\n",
       " 'AMD Ryzen 7 4700U',\n",
       " 'AMD Ryzen 7 4700U 2.00 GHz',\n",
       " 'AMD Ryzen 7 4800H',\n",
       " 'AMD Ryzen 7 4980U 2.00 GHz',\n",
       " 'AMD Ryzen 7 5700U',\n",
       " 'AMD Ryzen 7 5700U 1.80 GHz',\n",
       " 'AMD Ryzen 7 5800H',\n",
       " 'AMD Ryzen 7 5800H 3.20 GHz',\n",
       " 'AMD Ryzen 7 PRO 4750U 1.70 GHz',\n",
       " 'AMD Ryzen 7 PRO 5850U 1.90 GHz',\n",
       " 'AMD Ryzen 9 5900HX 3.30 GHz',\n",
       " 'Celeron-N4000',\n",
       " 'Intel Celeron N4020',\n",
       " 'Intel Celeron N4020 1.10 GHz',\n",
       " 'Intel Celeron N5100 1.10 GHz',\n",
       " 'Intel Core i3-1005G1',\n",
       " 'Intel Core i3-10110U',\n",
       " 'Intel Core i3-1115G4',\n",
       " 'Intel Core i3-1115G4 3.00 GHz',\n",
       " 'Intel Core i3-1125G4',\n",
       " 'Intel Core i3-1125G4 2.00 GHz',\n",
       " 'Intel Core i5-10210U 1.60 GHz',\n",
       " 'Intel Core i5-10210U\\xa04 Core Processor 1.6 GHz',\n",
       " 'Intel Core i5-10300H',\n",
       " 'Intel Core i5-10300H 2.50 GHz',\n",
       " 'Intel Core i5-10310U',\n",
       " 'Intel Core i5-10310U 1.70 GHz',\n",
       " 'Intel Core i5-1035G1',\n",
       " 'Intel Core i5-1035G1 1.00 GHz',\n",
       " 'Intel Core i5-1035G4',\n",
       " 'Intel Core i5-1035G4 1.10 GHz',\n",
       " 'Intel Core i5-1035G7 1.20 GHz',\n",
       " 'Intel Core i5-1035G7\\xa04 Core Processor 1.1 GHz',\n",
       " 'Intel Core i5-10500H 2.50 GHz',\n",
       " 'Intel Core i5-11260H',\n",
       " 'Intel Core i5-11300H 3.10 GHz',\n",
       " 'Intel Core i5-1135G7',\n",
       " 'Intel Core i5-1135G7 2.40 GHz',\n",
       " 'Intel Core i5-11400H',\n",
       " 'Intel Core i5-11400H 2.70 GHz',\n",
       " 'Intel Core i5-1145G7 2.60 GHz',\n",
       " 'Intel Core i5-1155G7 2.50 GHz',\n",
       " 'Intel Core i5-4300U 1.90 GHz',\n",
       " 'Intel Core i5-4310U 2.00 GHz',\n",
       " 'Intel Core i5-5300U 2.30 GHz',\n",
       " 'Intel Core i5-6200U 2.30 GHz',\n",
       " 'Intel Core i5-6300U 2.40 GHz',\n",
       " 'Intel Core i5-7200U 2.50 GHz',\n",
       " 'Intel Core i5-7300U 2.60 GHz',\n",
       " 'Intel Core i5-8250U 1.60 GHz',\n",
       " 'Intel Core i5-8265U 1.60 GHz',\n",
       " 'Intel Core i5-8350U 1.70 GHz',\n",
       " 'Intel Core i5-8365U 1.60 GHz',\n",
       " 'Intel Core i7-10610U',\n",
       " 'Intel Core i7-10610U 1.80 GHz',\n",
       " 'Intel Core i7-1065G7',\n",
       " 'Intel Core i7-1065G7 1.30 GHz',\n",
       " 'Intel Core i7-10750H',\n",
       " 'Intel Core i7-10750H 2.60 GHz',\n",
       " 'Intel Core i7-10850H 2.70 GHz',\n",
       " 'Intel Core i7-10875H 2.30 GHz',\n",
       " 'Intel Core i7-11370H 3.30 GHz',\n",
       " 'Intel Core i7-11375H 3.30 GHz',\n",
       " 'Intel Core i7-11390H 3.40 GHz',\n",
       " 'Intel Core i7-1160G7\\xa04 Core Processor 2.1 GHz',\n",
       " 'Intel Core i7-1165G7',\n",
       " 'Intel Core i7-1165G7 2.80 GHz',\n",
       " 'Intel Core i7-1165G7\\xa04 Core Processor 2.8 GHz',\n",
       " 'Intel Core i7-11800H',\n",
       " 'Intel Core i7-11800H 2.30 GHz',\n",
       " 'Intel Core i7-1185G7 3.00 GHz',\n",
       " 'Intel Core i7-1195G7 2.90 GHz',\n",
       " 'Intel Core i7-5600U 2.60 GHz',\n",
       " 'Intel Core i7-6600U 2.60 GHz',\n",
       " 'Intel Core i7-6820HQ 2.70 GHz',\n",
       " 'Intel Core i7-7600U 2.80 GHz',\n",
       " 'Intel Core i7-7820HQ 2.90 GHz',\n",
       " 'Intel Core i7-8550U 1.80 GHz',\n",
       " 'Intel Core i7-8565U',\n",
       " 'Intel Core i7-9750H',\n",
       " 'Intel Core i9-11900H 2.50 GHz',\n",
       " 'Intel Core m3-8100Y 1.10 GHz',\n",
       " 'Intel Pentium Gold 4417U 2.30 GHz',\n",
       " 'Intel Pentium Gold 7505 2.00 GHz',\n",
       " 'Intel Pentium N4200 (1.1 GHz)',\n",
       " 'Intel Pentium N4200 1.10 GHz',\n",
       " 'Intel Pentium Silver N5030',\n",
       " 'Intel i7 10th Gen',\n",
       " 'Itel Core i5-11300H 3.10 GHz',\n",
       " 'Microsoft SQ2']"
      ]
     },
     "execution_count": 57,
     "metadata": {},
     "output_type": "execute_result"
    }
   ],
   "source": [
    "cpu"
   ]
  },
  {
   "cell_type": "code",
   "execution_count": 63,
   "id": "43e32f24",
   "metadata": {},
   "outputs": [],
   "source": [
    "e = dict(zip(cpu, cpu_bench))"
   ]
  },
  {
   "cell_type": "code",
   "execution_count": 168,
   "id": "a3f95813",
   "metadata": {},
   "outputs": [
    {
     "data": {
      "text/plain": [
       "{'11th Gen Intel® Core i5-1135G7 Processor': 10175,\n",
       " '11th Generation Intel Core i3-1115G4 Processor (Dual-Core, 3.0 GHz Upto 4.1 GHz, 6 MB Cache)': 6346,\n",
       " 'AMD 3000 Series 3020e': 2489,\n",
       " 'AMD Athlon 3020e': 2489,\n",
       " 'AMD Ryzen 3 3250U': 4016,\n",
       " 'AMD Ryzen 5 3450U': 6855,\n",
       " 'AMD Ryzen 5 3450U 2.10 GHz': 6855,\n",
       " 'AMD Ryzen 5 3500U': 7118,\n",
       " 'AMD Ryzen 5 4500U': 11154,\n",
       " 'AMD Ryzen 5 4500U Six-Core Processor 2.30GHz Up to 4.00GHz': 11154,\n",
       " 'AMD Ryzen 5 5500U': 13236,\n",
       " 'AMD Ryzen 5 5500U 2.10 GHz': 13236,\n",
       " 'AMD Ryzen 5 5600H 3.30 GHz': 17377,\n",
       " 'AMD Ryzen 5 PRO 5650U 2.30 GHz': 15456,\n",
       " 'AMD Ryzen 7 3700U': 7347,\n",
       " 'AMD Ryzen 7 3750H': 8290,\n",
       " 'AMD Ryzen 7 4700U': 13715,\n",
       " 'AMD Ryzen 7 4700U 2.00 GHz': 13715,\n",
       " 'AMD Ryzen 7 4800H': 19118,\n",
       " 'AMD Ryzen 7 4980U 2.00 GHz': 'amd ryzen 7 4980u 2.00 ghz',\n",
       " 'AMD Ryzen 7 5700U': 16380,\n",
       " 'AMD Ryzen 7 5700U 1.80 GHz': 16380,\n",
       " 'AMD Ryzen 7 5800H': 21653,\n",
       " 'AMD Ryzen 7 5800H 3.20 GHz': 21653,\n",
       " 'AMD Ryzen 7 PRO 4750U 1.70 GHz': 15528,\n",
       " 'AMD Ryzen 7 PRO 5850U 1.90 GHz': 17938,\n",
       " 'AMD Ryzen 9 5900HX 3.30 GHz': 19523,\n",
       " 'Celeron-N4000': 1400,\n",
       " 'Intel Celeron N4020': 1595,\n",
       " 'Intel Celeron N4020 1.10 GHz': 1595,\n",
       " 'Intel Celeron N5100 1.10 GHz': 'Intel Celeron N5100 1.10 GHz',\n",
       " 'Intel Core i3-1005G1': 5180,\n",
       " 'Intel Core i3-10110U': 4047,\n",
       " 'Intel Core i3-1115G4': 6346,\n",
       " 'Intel Core i3-1115G4 3.00 GHz': 6346,\n",
       " 'Intel Core i3-1125G4': 10018,\n",
       " 'Intel Core i3-1125G4 2.00 GHz': 10018,\n",
       " 'Intel Core i5-10210U 1.60 GHz': 6461,\n",
       " 'Intel Core i5-10210U\\xa04 Core Processor 1.6 GHz': 6461,\n",
       " 'Intel Core i5-10300H': 8756,\n",
       " 'Intel Core i5-10300H 2.50 GHz': 8756,\n",
       " 'Intel Core i5-10310U': 6703,\n",
       " 'Intel Core i5-10310U 1.70 GHz': 6703,\n",
       " 'Intel Core i5-1035G1': 7798,\n",
       " 'Intel Core i5-1035G1 1.00 GHz': 7798,\n",
       " 'Intel Core i5-1035G4': 8244,\n",
       " 'Intel Core i5-1035G4 1.10 GHz': 8244,\n",
       " 'Intel Core i5-1035G7 1.20 GHz': 8372,\n",
       " 'Intel Core i5-1035G7\\xa04 Core Processor 1.1 GHz': 8372,\n",
       " 'Intel Core i5-10500H 2.50 GHz': 11772,\n",
       " 'Intel Core i5-11260H': 14550,\n",
       " 'Intel Core i5-11300H 3.10 GHz': 11241,\n",
       " 'Intel Core i5-1135G7': 10175,\n",
       " 'Intel Core i5-1135G7 2.40 GHz': 10715,\n",
       " 'Intel Core i5-11400H': 15933,\n",
       " 'Intel Core i5-11400H 2.70 GHz': 15933,\n",
       " 'Intel Core i5-1145G7 2.60 GHz': 10650,\n",
       " 'Intel Core i5-1155G7 2.50 GHz': 10611,\n",
       " 'Intel Core i5-4300U 1.90 GHz': 2502,\n",
       " 'Intel Core i5-4310U 2.00 GHz': 2519,\n",
       " 'Intel Core i5-5300U 2.30 GHz': 2733,\n",
       " 'Intel Core i5-6200U 2.30 GHz': 3028,\n",
       " 'Intel Core i5-6300U 2.40 GHz': 3258,\n",
       " 'Intel Core i5-7200U 2.50 GHz': 3409,\n",
       " 'Intel Core i5-7300U 2.60 GHz': 3742,\n",
       " 'Intel Core i5-8250U 1.60 GHz': 5947,\n",
       " 'Intel Core i5-8265U 1.60 GHz': 6131,\n",
       " 'Intel Core i5-8350U 1.70 GHz': 6338,\n",
       " 'Intel Core i5-8365U 1.60 GHz': 6380,\n",
       " 'Intel Core i7-10610U': 7050,\n",
       " 'Intel Core i7-10610U 1.80 GHz': 7050,\n",
       " 'Intel Core i7-1065G7': 8767,\n",
       " 'Intel Core i7-1065G7 1.30 GHz': 8767,\n",
       " 'Intel Core i7-10750H': 12451,\n",
       " 'Intel Core i7-10750H 2.60 GHz': 12451,\n",
       " 'Intel Core i7-10850H 2.70 GHz': 12200,\n",
       " 'Intel Core i7-10875H 2.30 GHz': 15518,\n",
       " 'Intel Core i7-11370H 3.30 GHz': 12379,\n",
       " 'Intel Core i7-11375H 3.30 GHz': 12305,\n",
       " 'Intel Core i7-11390H 3.40 GHz': 11448,\n",
       " 'Intel Core i7-1160G7\\xa04 Core Processor 2.1 GHz': 10316,\n",
       " 'Intel Core i7-1165G7': 10632,\n",
       " 'Intel Core i7-1165G7 2.80 GHz': 10632,\n",
       " 'Intel Core i7-1165G7\\xa04 Core Processor 2.8 GHz': 10632,\n",
       " 'Intel Core i7-11800H': 21632,\n",
       " 'Intel Core i7-11800H 2.30 GHz': 21632,\n",
       " 'Intel Core i7-1185G7 3.00 GHz': 11018,\n",
       " 'Intel Core i7-1195G7 2.90 GHz': 11631,\n",
       " 'Intel Core i7-5600U 2.60 GHz': 2964,\n",
       " 'Intel Core i7-6600U 2.60 GHz': 3508,\n",
       " 'Intel Core i7-6820HQ 2.70 GHz': 6938,\n",
       " 'Intel Core i7-7600U 2.80 GHz': 3608,\n",
       " 'Intel Core i7-7820HQ 2.90 GHz': 7157,\n",
       " 'Intel Core i7-8550U 1.80 GHz': 5938,\n",
       " 'Intel Core i7-8565U': 6367,\n",
       " 'Intel Core i7-9750H': 11239,\n",
       " 'Intel Core i9-11900H 2.50 GHz': 21939,\n",
       " 'Intel Core m3-8100Y 1.10 GHz': 3026,\n",
       " 'Intel Pentium Gold 4417U 2.30 GHz': 2257,\n",
       " 'Intel Pentium Gold 7505 2.00 GHz': 5350,\n",
       " 'Intel Pentium N4200 (1.1 GHz)': 2136,\n",
       " 'Intel Pentium N4200 1.10 GHz': 2136,\n",
       " 'Intel Pentium Silver N5030': 2685,\n",
       " 'Intel i7 10th Gen': 'Intel i7 10th Gen',\n",
       " 'Itel Core i5-11300H 3.10 GHz': 11241,\n",
       " 'Microsoft SQ2': 4205}"
      ]
     },
     "execution_count": 168,
     "metadata": {},
     "output_type": "execute_result"
    }
   ],
   "source": [
    "e"
   ]
  },
  {
   "cell_type": "code",
   "execution_count": 167,
   "id": "782f9e72",
   "metadata": {},
   "outputs": [],
   "source": [
    "df.loc[:, 'cpu_score'] = df['cpu'].map(e)"
   ]
  },
  {
   "cell_type": "code",
   "execution_count": 66,
   "id": "5e34468b",
   "metadata": {},
   "outputs": [],
   "source": [
    "df.to_csv('lap15.csv')"
   ]
  },
  {
   "cell_type": "code",
   "execution_count": 67,
   "id": "98c15ac8",
   "metadata": {},
   "outputs": [],
   "source": [
    "df = pd.read_csv('lap15.csv')"
   ]
  },
  {
   "cell_type": "code",
   "execution_count": 82,
   "id": "ba72d937",
   "metadata": {},
   "outputs": [],
   "source": [
    "df.loc[:, 'cpu_type_speed'] = df[\"cpu_type\"].fillna('') + ' ' + df[\"cpu_speed\"].fillna('')"
   ]
  },
  {
   "cell_type": "code",
   "execution_count": 100,
   "id": "8e6111bc",
   "metadata": {},
   "outputs": [],
   "source": [
    "cpu11 = sorted(list(df.loc[df[\"cpu_score\"].isnull(), \"cpu_type_speed\"].unique()))"
   ]
  },
  {
   "cell_type": "code",
   "execution_count": 101,
   "id": "0f8f2650",
   "metadata": {},
   "outputs": [
    {
     "data": {
      "text/plain": [
       "[' ',\n",
       " 'A-Series 1.60GHz',\n",
       " 'AMD 3000 Series 1.20GHz',\n",
       " 'AMD Athlon Gold 2.40GHz',\n",
       " 'AMD Athlon Silver 2.30GHz',\n",
       " 'AMD Ryzen 3 3000 Series 2.60GHz',\n",
       " 'AMD Ryzen 5 2.10GHz',\n",
       " 'AMD Ryzen 5 2.30GHz',\n",
       " 'AMD Ryzen 5 4000 Series 2.30GHz',\n",
       " 'AMD Ryzen 5 5000 Series 2.10GHz',\n",
       " 'AMD Ryzen 5 5000 Series 2.30GHz',\n",
       " 'AMD Ryzen 5 5000 Series 5600 H (3.30GHz)',\n",
       " 'AMD Ryzen 7 1.70GHz',\n",
       " 'AMD Ryzen 7 1.80GHz',\n",
       " 'AMD Ryzen 7 3.20GHz',\n",
       " 'AMD Ryzen 7 4000 Series 2.00GHz',\n",
       " 'AMD Ryzen 7 5000 Series 1.80GHz',\n",
       " 'AMD Ryzen 7 5000 Series 3.20GHz',\n",
       " 'AMD Ryzen 9 3.33GHz',\n",
       " 'AMD Ryzen 9 5000 Series 11375 H (3.30GHz)',\n",
       " 'AMD Ryzen 9 5000 Series 3.10GHz',\n",
       " 'AMD Ryzen 9 5000 Series 5900HX (3.30GHz)',\n",
       " 'Intel Celeron 1.10GHz',\n",
       " 'Intel Celeron 1.80GHz',\n",
       " 'Intel Core i3 10th Gen 1.20GHz',\n",
       " 'Intel Core i3 10th Gen 2.60GHz',\n",
       " 'Intel Core i3 11th Gen 2.00GHz',\n",
       " 'Intel Core i3 11th Gen 3.00GHz',\n",
       " 'Intel Core i5 1.60GHz',\n",
       " 'Intel Core i5 10th Gen 1.00GHz',\n",
       " 'Intel Core i5 10th Gen 1.10GHz',\n",
       " 'Intel Core i5 10th Gen 1.20GHz',\n",
       " 'Intel Core i5 10th Gen 1.60GHz',\n",
       " 'Intel Core i5 10th Gen 2.50 GHz',\n",
       " 'Intel Core i5 10th Gen 2.50GHz',\n",
       " 'Intel Core i5 10th Gen 2.5GHz',\n",
       " 'Intel Core i5 10th Gen 2.60GHz',\n",
       " 'Intel Core i5 11th Gen 2.40GHz',\n",
       " 'Intel Core i5 11th Gen 2.50 GHz',\n",
       " 'Intel Core i5 11th Gen 2.50GHz',\n",
       " 'Intel Core i5 11th Gen 2.60GHz',\n",
       " 'Intel Core i5 11th Gen 2.70GHz',\n",
       " 'Intel Core i5 11th Gen 3.10GHz',\n",
       " 'Intel Core i5 8th Gen 1.30GHz',\n",
       " 'Intel Core i7 10th Gen 1.30GHz',\n",
       " 'Intel Core i7 10th Gen 1.80GHz',\n",
       " 'Intel Core i7 10th Gen 2.20GHz',\n",
       " 'Intel Core i7 10th Gen 2.60GHz',\n",
       " 'Intel Core i7 10th Gen 2.90GHz',\n",
       " 'Intel Core i7 11th Gen 11370 H (3.30GHz)',\n",
       " 'Intel Core i7 11th Gen 11375 H (3.30GHz)',\n",
       " 'Intel Core i7 11th Gen 2.30GHz',\n",
       " 'Intel Core i7 11th Gen 2.80GHz',\n",
       " 'Intel Core i7 11th Gen 2.90GHz',\n",
       " 'Intel Core i7 11th Gen 3.00GHz',\n",
       " 'Intel Core i7 11th Gen 3.33GHz',\n",
       " 'Intel Core i9 10th Gen 2.40GHz',\n",
       " 'Intel Core i9 11th Gen 2.60GHz']"
      ]
     },
     "execution_count": 101,
     "metadata": {},
     "output_type": "execute_result"
    }
   ],
   "source": [
    "cpu11"
   ]
  },
  {
   "cell_type": "code",
   "execution_count": 162,
   "id": "b635070a",
   "metadata": {},
   "outputs": [],
   "source": [
    "cpu12 = {'AMD 3000 Series 1.20GHz': 2489, 'AMD Athlon Gold 2.40GHz': 4056, 'AMD Athlon Silver 2.30GHz': 3081, 'AMD Ryzen 3 3000 Series 2.60GHz': 4016, 'AMD Ryzen 5 2.10GHz 4.0GHz': 13236, 'AMD Ryzen 5 2.10GHz 3.5GHz': 6855,'AMD Ryzen 5 2.30GHz': 11154, 'AMD Ryzen 3 3000 Series 2.60GHz': 3975, 'AMD Ryzen 5 4000 Series 2.30GHz': 11154, 'AMD Ryzen 5 5000 Series 2.10GHz': 13236, 'AMD Ryzen 5 5000 Series 2.30GHz': 15681, 'AMD Ryzen 5 5000 Series 5600 H (3.30GHz)': 17377, 'AMD Ryzen 7 1.70GHz': 15528, 'AMD Ryzen 7 1.80GHz': 16380, 'AMD Ryzen 7 3.20GHz': 21653, 'AMD Ryzen 7 4000 Series 2.00GHz': 13715, 'AMD Ryzen 7 5000 Series 1.80GHz': 16380, 'AMD Ryzen 7 5000 Series 3.20GHz': 21653, 'AMD Ryzen 9 3.33GHz': 23311, 'AMD Ryzen 9 5000 Series 11375 H (3.30GHz)': 23311, 'AMD Ryzen 9 5000 Series 3.10GHz': 22337, 'AMD Ryzen 9 5000 Series 5900HX (3.30GHz)': 23311, 'Intel Celeron 1.10GHz': 1595, 'Intel Celeron 1.80GHz': 2735, 'Intel Core i3 10th Gen 1.20GHz': 5180, 'Intel Core i3 10th Gen 2.60GHz': 4047, 'Intel Core i3 11th Gen 2.00GHz': 10018, 'Intel Core i3 11th Gen 3.00GHz': 6346, 'Intel Core i5 1.60GHz': 6461, 'Intel Core i5 10th Gen 1.00GHz': 7798, 'Intel Core i5 10th Gen 1.10GHz': 8244, 'Intel Core i5 10th Gen 1.20GHz': 8372, 'Intel Core i5 10th Gen 1.60GHz': 6461, 'Intel Core i5 10th Gen 2.50 GHz': 8756, 'Intel Core i5 10th Gen 2.50GHz': 8756, 'Intel Core i5 10th Gen 2.5GHz': 8756, 'Intel Core i5 10th Gen 2.60GHz': 9022, 'Intel Core i5 11th Gen 2.40GHz': 10175, 'Intel Core i5 11th Gen 2.50 GHz': 10611, 'Intel Core i5 11th Gen 2.50GHz': 10611, 'Intel Core i5 11th Gen 2.60GHz': 17107, 'Intel Core i5 11th Gen 2.70GHz': 15933, 'Intel Core i5 11th Gen 3.10GHz': 13133, 'Intel Core i5 8th Gen 1.30GHz': 2308, 'Intel Core i7 10th Gen 1.30GHz': 8767, 'Intel Core i7 10th Gen 1.80GHz': 7050, 'Intel Core i7 10th Gen 2.20GHz': 15268, 'Intel Core i7 10th Gen 2.60GHz': 12451, 'Intel Core i7 10th Gen 2.90GHz': 17160, 'Intel Core i7 11th Gen 11370 H (3.30GHz)': 12379, 'Intel Core i7 11th Gen 11375 H (3.30GHz)': 12305, 'Intel Core i7 11th Gen 2.30GHz': 21632, 'Intel Core i7 11th Gen 2.80GHz': 10632, 'Intel Core i7 11th Gen 2.90GHz': 11631, 'Intel Core i7 11th Gen 3.00GHz': 11018, 'Intel Core i7 11th Gen 3.33GHz': 12379, 'Intel Core i9 10th Gen 2.40GHz': 16210, 'Intel Core i9 11th Gen 2.60GHz': 23353} "
   ]
  },
  {
   "cell_type": "code",
   "execution_count": 174,
   "id": "e3b87c05",
   "metadata": {},
   "outputs": [
    {
     "data": {
      "text/plain": [
       "array([nan, '4.0GHz', '3.5GHz'], dtype=object)"
      ]
     },
     "execution_count": 174,
     "metadata": {},
     "output_type": "execute_result"
    }
   ],
   "source": [
    "df.loc[df[\"cpu_type_speed\"] == 'AMD Ryzen 5 2.10GHz', \"turbo_frequency\"].unique()"
   ]
  },
  {
   "cell_type": "code",
   "execution_count": 170,
   "id": "fee779a5",
   "metadata": {},
   "outputs": [],
   "source": [
    "df.loc[df[\"cpu_score\"].isnull(), 'cpu_score'] = df['cpu_type_speed'].map(cpu12)"
   ]
  },
  {
   "cell_type": "code",
   "execution_count": 175,
   "id": "e0ba3c63",
   "metadata": {},
   "outputs": [],
   "source": [
    "df.loc[df[\"turbo_frequency\"] == '3.5GHz', 'cpu_score'] = df['cpu_type_speed'].map({'AMD Ryzen 5 2.10GHz': 6855})\n",
    "df.loc[df[\"turbo_frequency\"] == '4.0GHz', 'cpu_score'] = df['cpu_type_speed'].map({'AMD Ryzen 5 2.10GHz': 13236})"
   ]
  },
  {
   "cell_type": "code",
   "execution_count": 177,
   "id": "2a2ee925",
   "metadata": {},
   "outputs": [],
   "source": [
    "df['cpu_score'].replace({'amd ryzen 7 4980u 2.00 ghz': 18500, 'Intel i7 10th Gen': 12100, 'Intel Celeron N5100 1.10 GHz': 2997}, inplace=True)"
   ]
  },
  {
   "cell_type": "code",
   "execution_count": 179,
   "id": "0ca59abd",
   "metadata": {},
   "outputs": [],
   "source": [
    "df.to_csv('lap16.csv')"
   ]
  },
  {
   "cell_type": "code",
   "execution_count": 2,
   "id": "ac84ccd0",
   "metadata": {},
   "outputs": [],
   "source": [
    "df = pd.read_csv(\"lap16.csv\")"
   ]
  },
  {
   "cell_type": "code",
   "execution_count": 20,
   "id": "35624c85",
   "metadata": {},
   "outputs": [],
   "source": [
    "mem = list(df[\"memory\"].unique())"
   ]
  },
  {
   "cell_type": "code",
   "execution_count": 23,
   "id": "7efa5bde",
   "metadata": {},
   "outputs": [
    {
     "data": {
      "text/plain": [
       "['8GB',\n",
       " '16GB',\n",
       " '12GB',\n",
       " '32GB',\n",
       " '64GB',\n",
       " '4GB',\n",
       " '20GB',\n",
       " '24GB',\n",
       " '16 GB LPDDR4X',\n",
       " '36GB',\n",
       " '40GB',\n",
       " '8 GB LPDDR4X',\n",
       " '32 GB LPDDR4X',\n",
       " '128GB']"
      ]
     },
     "execution_count": 23,
     "metadata": {},
     "output_type": "execute_result"
    }
   ],
   "source": [
    "mem"
   ]
  },
  {
   "cell_type": "code",
   "execution_count": 22,
   "id": "dff46797",
   "metadata": {},
   "outputs": [],
   "source": [
    "del mem[-6]"
   ]
  },
  {
   "cell_type": "code",
   "execution_count": 32,
   "id": "1af4001f",
   "metadata": {},
   "outputs": [],
   "source": [
    "df.loc[:, 'memory'] = df['memory'].fillna('')"
   ]
  },
  {
   "cell_type": "code",
   "execution_count": 35,
   "id": "6774a0ce",
   "metadata": {},
   "outputs": [],
   "source": [
    "df.loc[:, 'ram'] = df.memory.apply(lambda x: re.sub(r'(GB| GB LPDDR4X)$', '', x))"
   ]
  },
  {
   "cell_type": "code",
   "execution_count": 36,
   "id": "a6e51606",
   "metadata": {},
   "outputs": [
    {
     "data": {
      "text/plain": [
       "0        8\n",
       "1       16\n",
       "2       16\n",
       "3       12\n",
       "4       16\n",
       "        ..\n",
       "3172    32\n",
       "3173    16\n",
       "3174    16\n",
       "3175    64\n",
       "3176    16\n",
       "Name: ram, Length: 3177, dtype: object"
      ]
     },
     "execution_count": 36,
     "metadata": {},
     "output_type": "execute_result"
    }
   ],
   "source": [
    "df.ram"
   ]
  },
  {
   "cell_type": "code",
   "execution_count": 71,
   "id": "996fba69",
   "metadata": {},
   "outputs": [
    {
     "data": {
      "text/plain": [
       "array(['512 GB PCIe', '256 GB PCIe', '512 GB NVMe', '512 GB', '256 GB',\n",
       "       '1 TB', '4 TB', '8 TB', '128 GB', '16 TB', '64 GB eMMC', '2 TB',\n",
       "       '1 TB NVMe', '1 TB PCIe', '64 GB', '256 GB NVMe', '500 GB',\n",
       "       '512 GB M.2 NVMe', '1 TB M.2 NVMe', '64 GB Flash', '2 TB PCIe',\n",
       "       '2 TB NVMe', '128 GB Flash', '512 GB Gen4'], dtype=object)"
      ]
     },
     "execution_count": 71,
     "metadata": {},
     "output_type": "execute_result"
    }
   ],
   "source": [
    "df.ssd.unique()"
   ]
  },
  {
   "cell_type": "code",
   "execution_count": 47,
   "id": "4a892d81",
   "metadata": {},
   "outputs": [],
   "source": [
    "df = df.dropna(subset=['ram', 'cpu_score', 'graphics_card_score', 'ssd'])"
   ]
  },
  {
   "cell_type": "code",
   "execution_count": 66,
   "id": "1455502b",
   "metadata": {},
   "outputs": [],
   "source": [
    "df = df.reset_index()"
   ]
  },
  {
   "cell_type": "code",
   "execution_count": 68,
   "id": "017f45a4",
   "metadata": {},
   "outputs": [],
   "source": [
    "df.drop(columns=['index'], inplace=True)"
   ]
  },
  {
   "cell_type": "code",
   "execution_count": 69,
   "id": "3d507219",
   "metadata": {},
   "outputs": [
    {
     "data": {
      "text/html": [
       "<div>\n",
       "<style scoped>\n",
       "    .dataframe tbody tr th:only-of-type {\n",
       "        vertical-align: middle;\n",
       "    }\n",
       "\n",
       "    .dataframe tbody tr th {\n",
       "        vertical-align: top;\n",
       "    }\n",
       "\n",
       "    .dataframe thead th {\n",
       "        text-align: right;\n",
       "    }\n",
       "</style>\n",
       "<table border=\"1\" class=\"dataframe\">\n",
       "  <thead>\n",
       "    <tr style=\"text-align: right;\">\n",
       "      <th></th>\n",
       "      <th>ac_adapter</th>\n",
       "      <th>audio_ports</th>\n",
       "      <th>backlit_keyboard</th>\n",
       "      <th>battery</th>\n",
       "      <th>bluetooth</th>\n",
       "      <th>brand</th>\n",
       "      <th>card_reader</th>\n",
       "      <th>color</th>\n",
       "      <th>color_gamut</th>\n",
       "      <th>core_name</th>\n",
       "      <th>...</th>\n",
       "      <th>hdd_rpm</th>\n",
       "      <th>bezel_design</th>\n",
       "      <th>thunderbolt_3</th>\n",
       "      <th>optical_drive_interface</th>\n",
       "      <th>nfc_supported</th>\n",
       "      <th>laptop_name</th>\n",
       "      <th>graphics_card_score</th>\n",
       "      <th>cpu_score</th>\n",
       "      <th>cpu_type_speed</th>\n",
       "      <th>ram</th>\n",
       "    </tr>\n",
       "  </thead>\n",
       "  <tbody>\n",
       "    <tr>\n",
       "      <th>0</th>\n",
       "      <td>65W AC AdapterOutput: 19V DC, 3.42A, 65WInput:...</td>\n",
       "      <td>1 x Headphone out</td>\n",
       "      <td>Backlit</td>\n",
       "      <td>42WHrs, 3S1P, 3-cell Li-ion</td>\n",
       "      <td>Bluetooth 5.0 (Dual band) 2x2</td>\n",
       "      <td>ASUS</td>\n",
       "      <td>Micro SD</td>\n",
       "      <td>Indie Black</td>\n",
       "      <td>100% DCI-P3</td>\n",
       "      <td>Tiger Lake</td>\n",
       "      <td>...</td>\n",
       "      <td>NaN</td>\n",
       "      <td>NaN</td>\n",
       "      <td>NaN</td>\n",
       "      <td>NaN</td>\n",
       "      <td>NaN</td>\n",
       "      <td>VivoBook K513EQ-NB74</td>\n",
       "      <td>2869.0</td>\n",
       "      <td>10632.0</td>\n",
       "      <td>Intel Core i7 11th Gen 1165G7 (2.80GHz)</td>\n",
       "      <td>8</td>\n",
       "    </tr>\n",
       "    <tr>\n",
       "      <th>1</th>\n",
       "      <td>65W USB-C (3-pin)</td>\n",
       "      <td>1 x Headphone / microphone combo jack (3.5mm)</td>\n",
       "      <td>Backlit</td>\n",
       "      <td>Integrated 45Wh</td>\n",
       "      <td>Bluetooth 5.1</td>\n",
       "      <td>Lenovo</td>\n",
       "      <td>4-in-1</td>\n",
       "      <td>Mineral Grey</td>\n",
       "      <td>45% NTSC</td>\n",
       "      <td>Tiger Lake</td>\n",
       "      <td>...</td>\n",
       "      <td>NaN</td>\n",
       "      <td>NaN</td>\n",
       "      <td>NaN</td>\n",
       "      <td>NaN</td>\n",
       "      <td>NaN</td>\n",
       "      <td>ThinkBook 15 G2 ITL 20VE006UUS</td>\n",
       "      <td>2831.0</td>\n",
       "      <td>10632.0</td>\n",
       "      <td>Intel Core i7 11th Gen 1165G7 (2.80GHz)</td>\n",
       "      <td>16</td>\n",
       "    </tr>\n",
       "    <tr>\n",
       "      <th>2</th>\n",
       "      <td>45-watt AC Adapter</td>\n",
       "      <td>1 x Headphone/Microphone Combo Jack</td>\n",
       "      <td>Non-backlit</td>\n",
       "      <td>HP Long Life 3-cell, 41 Wh Li-ion</td>\n",
       "      <td>Bluetooth 5.0</td>\n",
       "      <td>HP</td>\n",
       "      <td>1 multi-format digital media readerSupports SD...</td>\n",
       "      <td>Dark Ash Silver</td>\n",
       "      <td>45% NTSC</td>\n",
       "      <td>Tiger Lake</td>\n",
       "      <td>...</td>\n",
       "      <td>NaN</td>\n",
       "      <td>NaN</td>\n",
       "      <td>NaN</td>\n",
       "      <td>NaN</td>\n",
       "      <td>NaN</td>\n",
       "      <td>250 G8 4L1Q8UT#ABA</td>\n",
       "      <td>2831.0</td>\n",
       "      <td>10715.0</td>\n",
       "      <td>Intel Core i5 11th Gen 1135G7 (2.40GHz)</td>\n",
       "      <td>16</td>\n",
       "    </tr>\n",
       "    <tr>\n",
       "      <th>3</th>\n",
       "      <td>45-watt AC Adapter</td>\n",
       "      <td>1 x Headphone/Microphone Combo Jack</td>\n",
       "      <td>Backlit</td>\n",
       "      <td>3-cell Lithium Ion</td>\n",
       "      <td>Bluetooth 5.1</td>\n",
       "      <td>Acer</td>\n",
       "      <td>NaN</td>\n",
       "      <td>Pure Silver</td>\n",
       "      <td>NaN</td>\n",
       "      <td>Tiger Lake</td>\n",
       "      <td>...</td>\n",
       "      <td>NaN</td>\n",
       "      <td>NaN</td>\n",
       "      <td>NaN</td>\n",
       "      <td>NaN</td>\n",
       "      <td>NaN</td>\n",
       "      <td>Aspire 5 A515-56-76J1</td>\n",
       "      <td>2831.0</td>\n",
       "      <td>10632.0</td>\n",
       "      <td>Intel Core i7 11th Gen 1165G7 (2.80GHz)</td>\n",
       "      <td>12</td>\n",
       "    </tr>\n",
       "    <tr>\n",
       "      <th>4</th>\n",
       "      <td>NaN</td>\n",
       "      <td>Combo</td>\n",
       "      <td>Backlit</td>\n",
       "      <td>NaN</td>\n",
       "      <td>Bluetooth 5.2</td>\n",
       "      <td>Lenovo</td>\n",
       "      <td>No</td>\n",
       "      <td>Blue</td>\n",
       "      <td>NaN</td>\n",
       "      <td>NaN</td>\n",
       "      <td>...</td>\n",
       "      <td>NaN</td>\n",
       "      <td>NaN</td>\n",
       "      <td>NaN</td>\n",
       "      <td>NaN</td>\n",
       "      <td>NaN</td>\n",
       "      <td>Yoga 6 13</td>\n",
       "      <td>2500.0</td>\n",
       "      <td>16380.0</td>\n",
       "      <td>AMD Ryzen 7 5000 Series 1.80GHz</td>\n",
       "      <td>16</td>\n",
       "    </tr>\n",
       "    <tr>\n",
       "      <th>...</th>\n",
       "      <td>...</td>\n",
       "      <td>...</td>\n",
       "      <td>...</td>\n",
       "      <td>...</td>\n",
       "      <td>...</td>\n",
       "      <td>...</td>\n",
       "      <td>...</td>\n",
       "      <td>...</td>\n",
       "      <td>...</td>\n",
       "      <td>...</td>\n",
       "      <td>...</td>\n",
       "      <td>...</td>\n",
       "      <td>...</td>\n",
       "      <td>...</td>\n",
       "      <td>...</td>\n",
       "      <td>...</td>\n",
       "      <td>...</td>\n",
       "      <td>...</td>\n",
       "      <td>...</td>\n",
       "      <td>...</td>\n",
       "      <td>...</td>\n",
       "    </tr>\n",
       "    <tr>\n",
       "      <th>3101</th>\n",
       "      <td>NaN</td>\n",
       "      <td>1 x Headphone/Microphone Combo Jack</td>\n",
       "      <td>Backlit</td>\n",
       "      <td>NaN</td>\n",
       "      <td>Bluetooth 5.2</td>\n",
       "      <td>HP</td>\n",
       "      <td>Yes</td>\n",
       "      <td>Black</td>\n",
       "      <td>NaN</td>\n",
       "      <td>NaN</td>\n",
       "      <td>...</td>\n",
       "      <td>NaN</td>\n",
       "      <td>NaN</td>\n",
       "      <td>NaN</td>\n",
       "      <td>NaN</td>\n",
       "      <td>NaN</td>\n",
       "      <td>OMEN 15</td>\n",
       "      <td>14736.0</td>\n",
       "      <td>12451.0</td>\n",
       "      <td>Intel Core i7 10th Gen 2.60GHz</td>\n",
       "      <td>32</td>\n",
       "    </tr>\n",
       "    <tr>\n",
       "      <th>3102</th>\n",
       "      <td>NaN</td>\n",
       "      <td>1 x Headphone/Microphone Combo Jack</td>\n",
       "      <td>Backlit</td>\n",
       "      <td>NaN</td>\n",
       "      <td>Bluetooth 5.1</td>\n",
       "      <td>DELL</td>\n",
       "      <td>Micro SD</td>\n",
       "      <td>Dark Gray</td>\n",
       "      <td>NaN</td>\n",
       "      <td>NaN</td>\n",
       "      <td>...</td>\n",
       "      <td>NaN</td>\n",
       "      <td>NaN</td>\n",
       "      <td>NaN</td>\n",
       "      <td>NaN</td>\n",
       "      <td>NaN</td>\n",
       "      <td>Alienware m15 R4</td>\n",
       "      <td>14736.0</td>\n",
       "      <td>15268.0</td>\n",
       "      <td>Intel Core i7 10th Gen 2.20GHz</td>\n",
       "      <td>16</td>\n",
       "    </tr>\n",
       "    <tr>\n",
       "      <th>3103</th>\n",
       "      <td>NaN</td>\n",
       "      <td>1 x Headphone/Microphone Combo Jack</td>\n",
       "      <td>Backlit</td>\n",
       "      <td>NaN</td>\n",
       "      <td>Bluetooth 5.2</td>\n",
       "      <td>DELL</td>\n",
       "      <td>Micro SD</td>\n",
       "      <td>White</td>\n",
       "      <td>NaN</td>\n",
       "      <td>NaN</td>\n",
       "      <td>...</td>\n",
       "      <td>NaN</td>\n",
       "      <td>NaN</td>\n",
       "      <td>NaN</td>\n",
       "      <td>NaN</td>\n",
       "      <td>NaN</td>\n",
       "      <td>Alienware x17</td>\n",
       "      <td>14736.0</td>\n",
       "      <td>21632.0</td>\n",
       "      <td>Intel Core i7 11th Gen 2.30GHz</td>\n",
       "      <td>16</td>\n",
       "    </tr>\n",
       "    <tr>\n",
       "      <th>3104</th>\n",
       "      <td>NaN</td>\n",
       "      <td>1 x Headphone/Microphone Combo Jack</td>\n",
       "      <td>Backlit</td>\n",
       "      <td>NaN</td>\n",
       "      <td>Bluetooth 5.2</td>\n",
       "      <td>DELL</td>\n",
       "      <td>Micro SD</td>\n",
       "      <td>White</td>\n",
       "      <td>NaN</td>\n",
       "      <td>NaN</td>\n",
       "      <td>...</td>\n",
       "      <td>NaN</td>\n",
       "      <td>NaN</td>\n",
       "      <td>NaN</td>\n",
       "      <td>NaN</td>\n",
       "      <td>NaN</td>\n",
       "      <td>Alienware x17</td>\n",
       "      <td>14736.0</td>\n",
       "      <td>21632.0</td>\n",
       "      <td>Intel Core i7 11th Gen 2.30GHz</td>\n",
       "      <td>64</td>\n",
       "    </tr>\n",
       "    <tr>\n",
       "      <th>3105</th>\n",
       "      <td>NaN</td>\n",
       "      <td>1 x Headphone/Microphone Combo Jack</td>\n",
       "      <td>Backlit</td>\n",
       "      <td>NaN</td>\n",
       "      <td>Bluetooth 5.2</td>\n",
       "      <td>DELL</td>\n",
       "      <td>Micro SD</td>\n",
       "      <td>White</td>\n",
       "      <td>NaN</td>\n",
       "      <td>NaN</td>\n",
       "      <td>...</td>\n",
       "      <td>NaN</td>\n",
       "      <td>NaN</td>\n",
       "      <td>NaN</td>\n",
       "      <td>NaN</td>\n",
       "      <td>NaN</td>\n",
       "      <td>Alienware x17</td>\n",
       "      <td>14736.0</td>\n",
       "      <td>21632.0</td>\n",
       "      <td>Intel Core i7 11th Gen 2.30GHz</td>\n",
       "      <td>16</td>\n",
       "    </tr>\n",
       "  </tbody>\n",
       "</table>\n",
       "<p>3106 rows × 97 columns</p>\n",
       "</div>"
      ],
      "text/plain": [
       "                                             ac_adapter  \\\n",
       "0     65W AC AdapterOutput: 19V DC, 3.42A, 65WInput:...   \n",
       "1                                     65W USB-C (3-pin)   \n",
       "2                                    45-watt AC Adapter   \n",
       "3                                    45-watt AC Adapter   \n",
       "4                                                   NaN   \n",
       "...                                                 ...   \n",
       "3101                                                NaN   \n",
       "3102                                                NaN   \n",
       "3103                                                NaN   \n",
       "3104                                                NaN   \n",
       "3105                                                NaN   \n",
       "\n",
       "                                        audio_ports backlit_keyboard  \\\n",
       "0                                 1 x Headphone out          Backlit   \n",
       "1     1 x Headphone / microphone combo jack (3.5mm)          Backlit   \n",
       "2               1 x Headphone/Microphone Combo Jack      Non-backlit   \n",
       "3               1 x Headphone/Microphone Combo Jack          Backlit   \n",
       "4                                             Combo          Backlit   \n",
       "...                                             ...              ...   \n",
       "3101            1 x Headphone/Microphone Combo Jack          Backlit   \n",
       "3102            1 x Headphone/Microphone Combo Jack          Backlit   \n",
       "3103            1 x Headphone/Microphone Combo Jack          Backlit   \n",
       "3104            1 x Headphone/Microphone Combo Jack          Backlit   \n",
       "3105            1 x Headphone/Microphone Combo Jack          Backlit   \n",
       "\n",
       "                                battery                      bluetooth  \\\n",
       "0           42WHrs, 3S1P, 3-cell Li-ion  Bluetooth 5.0 (Dual band) 2x2   \n",
       "1                       Integrated 45Wh                  Bluetooth 5.1   \n",
       "2     HP Long Life 3-cell, 41 Wh Li-ion                  Bluetooth 5.0   \n",
       "3                    3-cell Lithium Ion                  Bluetooth 5.1   \n",
       "4                                   NaN                  Bluetooth 5.2   \n",
       "...                                 ...                            ...   \n",
       "3101                                NaN                  Bluetooth 5.2   \n",
       "3102                                NaN                  Bluetooth 5.1   \n",
       "3103                                NaN                  Bluetooth 5.2   \n",
       "3104                                NaN                  Bluetooth 5.2   \n",
       "3105                                NaN                  Bluetooth 5.2   \n",
       "\n",
       "       brand                                        card_reader  \\\n",
       "0       ASUS                                           Micro SD   \n",
       "1     Lenovo                                             4-in-1   \n",
       "2         HP  1 multi-format digital media readerSupports SD...   \n",
       "3       Acer                                                NaN   \n",
       "4     Lenovo                                                 No   \n",
       "...      ...                                                ...   \n",
       "3101      HP                                                Yes   \n",
       "3102    DELL                                           Micro SD   \n",
       "3103    DELL                                           Micro SD   \n",
       "3104    DELL                                           Micro SD   \n",
       "3105    DELL                                           Micro SD   \n",
       "\n",
       "                color  color_gamut   core_name  ... hdd_rpm bezel_design  \\\n",
       "0         Indie Black  100% DCI-P3  Tiger Lake  ...     NaN          NaN   \n",
       "1        Mineral Grey     45% NTSC  Tiger Lake  ...     NaN          NaN   \n",
       "2     Dark Ash Silver     45% NTSC  Tiger Lake  ...     NaN          NaN   \n",
       "3         Pure Silver          NaN  Tiger Lake  ...     NaN          NaN   \n",
       "4                Blue          NaN         NaN  ...     NaN          NaN   \n",
       "...               ...          ...         ...  ...     ...          ...   \n",
       "3101            Black          NaN         NaN  ...     NaN          NaN   \n",
       "3102        Dark Gray          NaN         NaN  ...     NaN          NaN   \n",
       "3103            White          NaN         NaN  ...     NaN          NaN   \n",
       "3104            White          NaN         NaN  ...     NaN          NaN   \n",
       "3105            White          NaN         NaN  ...     NaN          NaN   \n",
       "\n",
       "     thunderbolt_3 optical_drive_interface nfc_supported  \\\n",
       "0              NaN                     NaN           NaN   \n",
       "1              NaN                     NaN           NaN   \n",
       "2              NaN                     NaN           NaN   \n",
       "3              NaN                     NaN           NaN   \n",
       "4              NaN                     NaN           NaN   \n",
       "...            ...                     ...           ...   \n",
       "3101           NaN                     NaN           NaN   \n",
       "3102           NaN                     NaN           NaN   \n",
       "3103           NaN                     NaN           NaN   \n",
       "3104           NaN                     NaN           NaN   \n",
       "3105           NaN                     NaN           NaN   \n",
       "\n",
       "                         laptop_name graphics_card_score cpu_score  \\\n",
       "0               VivoBook K513EQ-NB74              2869.0   10632.0   \n",
       "1     ThinkBook 15 G2 ITL 20VE006UUS              2831.0   10632.0   \n",
       "2                 250 G8 4L1Q8UT#ABA              2831.0   10715.0   \n",
       "3              Aspire 5 A515-56-76J1              2831.0   10632.0   \n",
       "4                         Yoga 6 13               2500.0   16380.0   \n",
       "...                              ...                 ...       ...   \n",
       "3101                        OMEN 15              14736.0   12451.0   \n",
       "3102               Alienware m15 R4              14736.0   15268.0   \n",
       "3103                  Alienware x17              14736.0   21632.0   \n",
       "3104                  Alienware x17              14736.0   21632.0   \n",
       "3105                  Alienware x17              14736.0   21632.0   \n",
       "\n",
       "                               cpu_type_speed ram  \n",
       "0     Intel Core i7 11th Gen 1165G7 (2.80GHz)   8  \n",
       "1     Intel Core i7 11th Gen 1165G7 (2.80GHz)  16  \n",
       "2     Intel Core i5 11th Gen 1135G7 (2.40GHz)  16  \n",
       "3     Intel Core i7 11th Gen 1165G7 (2.80GHz)  12  \n",
       "4             AMD Ryzen 7 5000 Series 1.80GHz  16  \n",
       "...                                       ...  ..  \n",
       "3101           Intel Core i7 10th Gen 2.60GHz  32  \n",
       "3102           Intel Core i7 10th Gen 2.20GHz  16  \n",
       "3103           Intel Core i7 11th Gen 2.30GHz  16  \n",
       "3104           Intel Core i7 11th Gen 2.30GHz  64  \n",
       "3105           Intel Core i7 11th Gen 2.30GHz  16  \n",
       "\n",
       "[3106 rows x 97 columns]"
      ]
     },
     "execution_count": 69,
     "metadata": {},
     "output_type": "execute_result"
    }
   ],
   "source": [
    "df"
   ]
  },
  {
   "cell_type": "code",
   "execution_count": 56,
   "id": "b3d8f58a",
   "metadata": {},
   "outputs": [
    {
     "data": {
      "text/plain": [
       "12"
      ]
     },
     "execution_count": 56,
     "metadata": {},
     "output_type": "execute_result"
    }
   ],
   "source": [
    "(df['ssd'] == 'No').sum()"
   ]
  },
  {
   "cell_type": "code",
   "execution_count": 65,
   "id": "afb136f6",
   "metadata": {},
   "outputs": [],
   "source": [
    "df = df[df.ssd != 'No']"
   ]
  },
  {
   "cell_type": "code",
   "execution_count": 72,
   "id": "7c742ea2",
   "metadata": {},
   "outputs": [],
   "source": [
    "df.to_csv('lap17.csv')"
   ]
  },
  {
   "cell_type": "code",
   "execution_count": 75,
   "id": "60a44ba6",
   "metadata": {},
   "outputs": [],
   "source": [
    "df = pd.read_csv('lap17.csv')"
   ]
  },
  {
   "cell_type": "code",
   "execution_count": 79,
   "id": "d221bfd7",
   "metadata": {},
   "outputs": [],
   "source": [
    "df.loc[:, 'storage_score'] = df['ssd'].apply(lambda x: float(x.split()[0])*1024 if x.split()[1] == 'TB' else float(x.split()[0]))"
   ]
  },
  {
   "cell_type": "code",
   "execution_count": 80,
   "id": "6c7d9767",
   "metadata": {},
   "outputs": [
    {
     "data": {
      "text/plain": [
       "0        512.0\n",
       "1        512.0\n",
       "2        256.0\n",
       "3        512.0\n",
       "4        512.0\n",
       "         ...  \n",
       "3101    2048.0\n",
       "3102    1024.0\n",
       "3103    2048.0\n",
       "3104    8192.0\n",
       "3105    2048.0\n",
       "Name: storage_score, Length: 3106, dtype: float64"
      ]
     },
     "execution_count": 80,
     "metadata": {},
     "output_type": "execute_result"
    }
   ],
   "source": [
    "df['storage_score']"
   ]
  },
  {
   "cell_type": "code",
   "execution_count": 83,
   "id": "2c8b1622",
   "metadata": {},
   "outputs": [],
   "source": [
    "df['hdd'] = df.hdd.fillna('')"
   ]
  },
  {
   "cell_type": "code",
   "execution_count": 85,
   "id": "34317dc0",
   "metadata": {},
   "outputs": [
    {
     "data": {
      "text/plain": [
       "array(['', '500GB', '1TB', '2TB'], dtype=object)"
      ]
     },
     "execution_count": 85,
     "metadata": {},
     "output_type": "execute_result"
    }
   ],
   "source": [
    "df.hdd.unique()"
   ]
  },
  {
   "cell_type": "code",
   "execution_count": 86,
   "id": "7b38e17d",
   "metadata": {},
   "outputs": [],
   "source": [
    "df.loc[df['hdd'] != '', 'hdd_score'] = df['hdd'].replace({'500GB': 15, '1TB': 30, '2TB': 60})"
   ]
  },
  {
   "cell_type": "code",
   "execution_count": 93,
   "id": "1feb24c6",
   "metadata": {},
   "outputs": [],
   "source": [
    "df.loc[df['hdd_score'].notnull(), 'storage_score'] = df['storage_score'] + df['hdd_score']"
   ]
  },
  {
   "cell_type": "code",
   "execution_count": 94,
   "id": "faed7915",
   "metadata": {},
   "outputs": [
    {
     "data": {
      "text/plain": [
       "19       143.0\n",
       "68       143.0\n",
       "80       286.0\n",
       "85       286.0\n",
       "332      316.0\n",
       "         ...  \n",
       "2961     158.0\n",
       "2970    2108.0\n",
       "2977    2108.0\n",
       "3008    2078.0\n",
       "3055     316.0\n",
       "Name: storage_score, Length: 329, dtype: object"
      ]
     },
     "execution_count": 94,
     "metadata": {},
     "output_type": "execute_result"
    }
   ],
   "source": [
    "df.loc[df['hdd_score'].notnull(), 'storage_score']"
   ]
  },
  {
   "cell_type": "code",
   "execution_count": 96,
   "id": "9c076b53",
   "metadata": {},
   "outputs": [
    {
     "data": {
      "text/plain": [
       "19      15\n",
       "68      15\n",
       "80      30\n",
       "85      30\n",
       "332     60\n",
       "        ..\n",
       "2961    30\n",
       "2970    60\n",
       "2977    60\n",
       "3008    30\n",
       "3055    60\n",
       "Name: hdd_score, Length: 329, dtype: object"
      ]
     },
     "execution_count": 96,
     "metadata": {},
     "output_type": "execute_result"
    }
   ],
   "source": [
    "df.loc[df['hdd_score'].notnull(), 'hdd_score']"
   ]
  },
  {
   "cell_type": "code",
   "execution_count": 97,
   "id": "6d704b73",
   "metadata": {},
   "outputs": [],
   "source": [
    "df.to_csv('lap18.csv')"
   ]
  },
  {
   "cell_type": "code",
   "execution_count": 2,
   "id": "1aab53a4",
   "metadata": {},
   "outputs": [],
   "source": [
    "df = pd.read_csv('lap18.csv')"
   ]
  },
  {
   "cell_type": "code",
   "execution_count": 15,
   "id": "a5e3778d",
   "metadata": {},
   "outputs": [
    {
     "name": "stdout",
     "output_type": "stream",
     "text": [
      "['1920 x 1080' '1920x1080' '1366 x 768' '2256x1504' '2880 x 1920'\n",
      " '2560 x 1600' '1600 x 900' '3456x2160' '1920x1200' '2560 x 1440'\n",
      " '3840 x 2160' '1920 x 1280' '2736 x 1824' '2256 x 1504' '2496 x 1664'\n",
      " '1920 x 1200' '3072 x 1920' '3840 x 2100']\n",
      "['15.6\"' '13.3\"' '14.0\"' '16.1\"' '17.3\"' '13.5\"' '13\"' '17.3\" 4K / UHD'\n",
      " '15.6\" 4K / UHD' '10.5\"' '14\"' '11.6\"' '12.3\"' '14.0\" 4K / UHD' '12.5\"'\n",
      " '15.0\"' '10.1\"' '16\"' '16.0\"' '13.4\"']\n"
     ]
    }
   ],
   "source": [
    "print(df['resolution'].unique())\n",
    "print(df['screen_size'].unique())"
   ]
  },
  {
   "cell_type": "code",
   "execution_count": 14,
   "id": "18dd976a",
   "metadata": {},
   "outputs": [],
   "source": [
    "df.loc[:, 'resolution'] = df['resolution'].replace('3840 X 2160', '3840 x 2100')"
   ]
  },
  {
   "cell_type": "code",
   "execution_count": 18,
   "id": "1b18ac5d",
   "metadata": {},
   "outputs": [],
   "source": [
    "df.loc[:, 'resolution_score'] = df['resolution'].apply(lambda x: int(x.split('x')[0]) * int(x.split('x')[1]))"
   ]
  },
  {
   "cell_type": "code",
   "execution_count": 24,
   "id": "be47ec01",
   "metadata": {},
   "outputs": [],
   "source": [
    "df.loc[:, 'screen_size_score'] = df['screen_size'].apply(lambda x: re.sub(r'(\"|\" 4K / UHD)$', '', x))"
   ]
  },
  {
   "cell_type": "code",
   "execution_count": 29,
   "id": "760501e0",
   "metadata": {},
   "outputs": [],
   "source": [
    "df.loc[:, 'screen_size_score'] = df['screen_size_score'].apply(lambda x: float(x))"
   ]
  },
  {
   "cell_type": "code",
   "execution_count": 97,
   "id": "a152f198",
   "metadata": {},
   "outputs": [],
   "source": [
    "cols = ['graphics_card_score', 'cpu_score', 'ram', 'storage_score', 'resolution_score', 'screen_size_score']"
   ]
  },
  {
   "cell_type": "code",
   "execution_count": 107,
   "id": "3d9e9205",
   "metadata": {},
   "outputs": [],
   "source": [
    "df2 = df.copy(deep=True)"
   ]
  },
  {
   "cell_type": "code",
   "execution_count": 132,
   "id": "340e8585",
   "metadata": {},
   "outputs": [],
   "source": [
    "df2.drop(columns=['index'], inplace=True)"
   ]
  },
  {
   "cell_type": "code",
   "execution_count": 109,
   "id": "d8e1e4dd",
   "metadata": {
    "scrolled": true
   },
   "outputs": [
    {
     "data": {
      "text/plain": [
       "Gaming                                         1066\n",
       "Work / Business                                 842\n",
       "Mainstream                                      132\n",
       "Home / Personal                                  50\n",
       "Content Creation                                 37\n",
       "Everyday Value                                   21\n",
       "Workstation                                       6\n",
       "Home / Personal / Work / Business                 2\n",
       "Content Creation / Gaming                         1\n",
       "Content Creation / Gaming / Work / Business       1\n",
       "Content Creation / Home / Personal                1\n",
       "Name: type, dtype: int64"
      ]
     },
     "execution_count": 109,
     "metadata": {},
     "output_type": "execute_result"
    }
   ],
   "source": [
    "df2['type'].value_counts()"
   ]
  },
  {
   "cell_type": "code",
   "execution_count": 110,
   "id": "81cad065",
   "metadata": {},
   "outputs": [
    {
     "data": {
      "text/plain": [
       "MSI          558\n",
       "ASUS         468\n",
       "Lenovo       452\n",
       "HP           353\n",
       "DELL         283\n",
       "Acer          26\n",
       "Microsoft     11\n",
       "TOSHIBA        3\n",
       "Razer          2\n",
       "GIGABYTE       2\n",
       "Hyundai        1\n",
       "Name: brand, dtype: int64"
      ]
     },
     "execution_count": 110,
     "metadata": {},
     "output_type": "execute_result"
    }
   ],
   "source": [
    "df2['brand'].value_counts()"
   ]
  },
  {
   "cell_type": "code",
   "execution_count": 111,
   "id": "7e69c209",
   "metadata": {},
   "outputs": [],
   "source": [
    "df2.loc[:, 'type'] = df2['type'].replace({'Home / Personal / Work / Business': 'Home / Personal', 'Mainstream': 'Home / Personal', 'Everyday Value': 'Home / Personal', 'Content Creation / Home / Personal': 'Home / Personal'})"
   ]
  },
  {
   "cell_type": "code",
   "execution_count": 112,
   "id": "9696beb1",
   "metadata": {},
   "outputs": [],
   "source": [
    "df2.loc[:, 'type'] = df2['type'].replace({'Content Creation': 'Gaming', 'Content Creation / Gaming / Work / Business': 'Work / Business', 'Content Creation / Gaming': 'Gaming', 'Workstation': 'Work / Business'})"
   ]
  },
  {
   "cell_type": "code",
   "execution_count": 190,
   "id": "f89061c6",
   "metadata": {},
   "outputs": [],
   "source": [
    "df.loc[:, 'brand'] = df['brand'].apply(lambda x: x.lower())"
   ]
  },
  {
   "cell_type": "code",
   "execution_count": 192,
   "id": "36fa37bd",
   "metadata": {},
   "outputs": [],
   "source": [
    "df.to_csv('lap25.csv')"
   ]
  },
  {
   "cell_type": "code",
   "execution_count": 113,
   "id": "bc2392f9",
   "metadata": {},
   "outputs": [],
   "source": [
    "df2['type'].replace({'Gaming': 'gaming', 'Work / Business': 'work_business', 'Home / Personal': 'home_personal'}, inplace=True)"
   ]
  },
  {
   "cell_type": "code",
   "execution_count": 122,
   "id": "edc78b86",
   "metadata": {},
   "outputs": [],
   "source": [
    "df2['price'] = ((df2['price'] - df2['price'].mean()) / df2['price'].std())"
   ]
  },
  {
   "cell_type": "code",
   "execution_count": 162,
   "id": "712538df",
   "metadata": {},
   "outputs": [],
   "source": [
    "df3[cols] = ((df3[cols] - df3[cols].mean()) / df3[cols].std())"
   ]
  },
  {
   "cell_type": "code",
   "execution_count": 161,
   "id": "6aa1ab0a",
   "metadata": {},
   "outputs": [],
   "source": [
    "df3 = df2.copy(deep=True)"
   ]
  },
  {
   "cell_type": "code",
   "execution_count": 28,
   "id": "b3de4613",
   "metadata": {},
   "outputs": [],
   "source": [
    "df2.to_csv('lap28.csv')"
   ]
  },
  {
   "cell_type": "code",
   "execution_count": 20,
   "id": "45681dc3",
   "metadata": {},
   "outputs": [],
   "source": [
    "df2['total'] = df2.sum(axis=1)"
   ]
  },
  {
   "cell_type": "code",
   "execution_count": 119,
   "id": "23838df0",
   "metadata": {},
   "outputs": [],
   "source": [
    "df3.reset_index(inplace=True)"
   ]
  },
  {
   "cell_type": "code",
   "execution_count": 8,
   "id": "8ebedd78",
   "metadata": {},
   "outputs": [],
   "source": [
    "df = pd.read_csv('lap25.csv')"
   ]
  },
  {
   "cell_type": "code",
   "execution_count": 10,
   "id": "27f84d30",
   "metadata": {},
   "outputs": [
    {
     "data": {
      "text/plain": [
       "1233044.8"
      ]
     },
     "execution_count": 10,
     "metadata": {},
     "output_type": "execute_result"
    }
   ],
   "source": [
    "df['price'].max()"
   ]
  },
  {
   "cell_type": "code",
   "execution_count": 19,
   "id": "8e600960",
   "metadata": {},
   "outputs": [],
   "source": [
    "df2.drop(columns=['total'], inplace=True)"
   ]
  },
  {
   "cell_type": "code",
   "execution_count": 82,
   "id": "7022507d",
   "metadata": {},
   "outputs": [],
   "source": [
    "df['laptop_name'] = df['laptop_name'].apply(lambda x: x.strip())"
   ]
  },
  {
   "cell_type": "code",
   "execution_count": 146,
   "id": "961d30ab",
   "metadata": {},
   "outputs": [],
   "source": [
    "df3.loc[df2.loc[df2['laptop_name'] == 'VivoBook S17 S712'].index, 'ram'].to_csv('lap20_0_5.csv')"
   ]
  },
  {
   "cell_type": "code",
   "execution_count": 147,
   "id": "600dbf09",
   "metadata": {},
   "outputs": [],
   "source": [
    "df4 = pd.read_csv('lap20_0_5.csv')"
   ]
  },
  {
   "cell_type": "code",
   "execution_count": 71,
   "id": "69b36aa6",
   "metadata": {},
   "outputs": [],
   "source": [
    "df.drop_duplicates(inplace=True)"
   ]
  },
  {
   "cell_type": "code",
   "execution_count": 72,
   "id": "977c4efa",
   "metadata": {},
   "outputs": [],
   "source": [
    "df.reset_index(inplace=True)"
   ]
  },
  {
   "cell_type": "code",
   "execution_count": 13,
   "id": "c218db22",
   "metadata": {},
   "outputs": [
    {
     "data": {
      "text/plain": [
       "array([15.6, 13.3, 14. , 16.1, 17.3, 13.5, 13. , 10.5, 11.6, 12.3, 12.5,\n",
       "       15. , 10.1, 16. , 13.4])"
      ]
     },
     "execution_count": 13,
     "metadata": {},
     "output_type": "execute_result"
    }
   ],
   "source": [
    "df[\"screen_size_score\"].unique()"
   ]
  },
  {
   "cell_type": "code",
   "execution_count": 83,
   "id": "fccaf5bf",
   "metadata": {},
   "outputs": [
    {
     "name": "stdout",
     "output_type": "stream",
     "text": [
      "[10.5, 13.0, 33.3, 11.6]\n",
      "Int64Index([74, 253, 460, 509, 707, 1481], dtype='int64')\n",
      "Int64Index([74, 253], dtype='int64')\n"
     ]
    }
   ],
   "source": [
    "a_list = [10.5, 13., 11.6]\n",
    "a_list.insert(2, 33.3)\n",
    "print(a_list)\n",
    "b = df.index[df[\"screen_size_score\"].isin(a_list)]\n",
    "b_list = [10.5, 13]\n",
    "c = df.index[df[\"screen_size_score\"].isin(b_list)]\n",
    "print(b)\n",
    "print(c)\n",
    "d = b[~b.isin(c)]\n",
    "d\n",
    "if df[\"screen_size_score\"][0] in a_list:\n",
    "    print(True)"
   ]
  },
  {
   "cell_type": "code",
   "execution_count": 38,
   "id": "95397599",
   "metadata": {},
   "outputs": [
    {
     "data": {
      "text/plain": [
       "True"
      ]
     },
     "execution_count": 38,
     "metadata": {},
     "output_type": "execute_result"
    }
   ],
   "source": [
    "df[\"screen_size_score\"].any()"
   ]
  },
  {
   "cell_type": "code",
   "execution_count": 27,
   "id": "be5d620b",
   "metadata": {},
   "outputs": [
    {
     "data": {
      "text/plain": [
       "2158"
      ]
     },
     "execution_count": 27,
     "metadata": {},
     "output_type": "execute_result"
    }
   ],
   "source": [
    "df.index.size"
   ]
  },
  {
   "cell_type": "code",
   "execution_count": 21,
   "id": "70b8fb81",
   "metadata": {},
   "outputs": [
    {
     "data": {
      "text/html": [
       "<div>\n",
       "<style scoped>\n",
       "    .dataframe tbody tr th:only-of-type {\n",
       "        vertical-align: middle;\n",
       "    }\n",
       "\n",
       "    .dataframe tbody tr th {\n",
       "        vertical-align: top;\n",
       "    }\n",
       "\n",
       "    .dataframe thead th {\n",
       "        text-align: right;\n",
       "    }\n",
       "</style>\n",
       "<table border=\"1\" class=\"dataframe\">\n",
       "  <thead>\n",
       "    <tr style=\"text-align: right;\">\n",
       "      <th></th>\n",
       "      <th>graphics_card_score</th>\n",
       "      <th>cpu_score</th>\n",
       "      <th>ram</th>\n",
       "      <th>storage_score</th>\n",
       "      <th>resolution_score</th>\n",
       "      <th>total</th>\n",
       "    </tr>\n",
       "  </thead>\n",
       "  <tbody>\n",
       "    <tr>\n",
       "      <th>0</th>\n",
       "      <td>-0.866364</td>\n",
       "      <td>-0.651541</td>\n",
       "      <td>-1.013987</td>\n",
       "      <td>-0.590222</td>\n",
       "      <td>-0.363742</td>\n",
       "      <td>-3.485856</td>\n",
       "    </tr>\n",
       "    <tr>\n",
       "      <th>1</th>\n",
       "      <td>-0.873839</td>\n",
       "      <td>-0.651541</td>\n",
       "      <td>-0.594191</td>\n",
       "      <td>-0.590222</td>\n",
       "      <td>-0.363742</td>\n",
       "      <td>-3.073535</td>\n",
       "    </tr>\n",
       "    <tr>\n",
       "      <th>2</th>\n",
       "      <td>-0.873839</td>\n",
       "      <td>-0.637597</td>\n",
       "      <td>-0.594191</td>\n",
       "      <td>-0.667074</td>\n",
       "      <td>-0.363742</td>\n",
       "      <td>-3.136443</td>\n",
       "    </tr>\n",
       "    <tr>\n",
       "      <th>3</th>\n",
       "      <td>-0.873839</td>\n",
       "      <td>-0.651541</td>\n",
       "      <td>-0.804089</td>\n",
       "      <td>-0.590222</td>\n",
       "      <td>-0.363742</td>\n",
       "      <td>-3.283433</td>\n",
       "    </tr>\n",
       "    <tr>\n",
       "      <th>4</th>\n",
       "      <td>-0.938949</td>\n",
       "      <td>0.314109</td>\n",
       "      <td>-0.594191</td>\n",
       "      <td>-0.590222</td>\n",
       "      <td>-0.363742</td>\n",
       "      <td>-2.172995</td>\n",
       "    </tr>\n",
       "    <tr>\n",
       "      <th>...</th>\n",
       "      <td>...</td>\n",
       "      <td>...</td>\n",
       "      <td>...</td>\n",
       "      <td>...</td>\n",
       "      <td>...</td>\n",
       "      <td>...</td>\n",
       "    </tr>\n",
       "    <tr>\n",
       "      <th>2153</th>\n",
       "      <td>1.467942</td>\n",
       "      <td>-0.345953</td>\n",
       "      <td>0.245399</td>\n",
       "      <td>-0.129112</td>\n",
       "      <td>-0.363742</td>\n",
       "      <td>0.874534</td>\n",
       "    </tr>\n",
       "    <tr>\n",
       "      <th>2154</th>\n",
       "      <td>1.467942</td>\n",
       "      <td>0.127296</td>\n",
       "      <td>-0.594191</td>\n",
       "      <td>-0.436519</td>\n",
       "      <td>-0.363742</td>\n",
       "      <td>0.200786</td>\n",
       "    </tr>\n",
       "    <tr>\n",
       "      <th>2155</th>\n",
       "      <td>1.467942</td>\n",
       "      <td>1.196433</td>\n",
       "      <td>-0.594191</td>\n",
       "      <td>-0.129112</td>\n",
       "      <td>-0.363742</td>\n",
       "      <td>1.577329</td>\n",
       "    </tr>\n",
       "    <tr>\n",
       "      <th>2156</th>\n",
       "      <td>1.467942</td>\n",
       "      <td>1.196433</td>\n",
       "      <td>1.924581</td>\n",
       "      <td>1.715327</td>\n",
       "      <td>-0.363742</td>\n",
       "      <td>5.940541</td>\n",
       "    </tr>\n",
       "    <tr>\n",
       "      <th>2157</th>\n",
       "      <td>1.467942</td>\n",
       "      <td>1.196433</td>\n",
       "      <td>-0.594191</td>\n",
       "      <td>-0.129112</td>\n",
       "      <td>-0.363742</td>\n",
       "      <td>1.577329</td>\n",
       "    </tr>\n",
       "  </tbody>\n",
       "</table>\n",
       "<p>2158 rows × 6 columns</p>\n",
       "</div>"
      ],
      "text/plain": [
       "      graphics_card_score  cpu_score       ram  storage_score  \\\n",
       "0               -0.866364  -0.651541 -1.013987      -0.590222   \n",
       "1               -0.873839  -0.651541 -0.594191      -0.590222   \n",
       "2               -0.873839  -0.637597 -0.594191      -0.667074   \n",
       "3               -0.873839  -0.651541 -0.804089      -0.590222   \n",
       "4               -0.938949   0.314109 -0.594191      -0.590222   \n",
       "...                   ...        ...       ...            ...   \n",
       "2153             1.467942  -0.345953  0.245399      -0.129112   \n",
       "2154             1.467942   0.127296 -0.594191      -0.436519   \n",
       "2155             1.467942   1.196433 -0.594191      -0.129112   \n",
       "2156             1.467942   1.196433  1.924581       1.715327   \n",
       "2157             1.467942   1.196433 -0.594191      -0.129112   \n",
       "\n",
       "      resolution_score     total  \n",
       "0            -0.363742 -3.485856  \n",
       "1            -0.363742 -3.073535  \n",
       "2            -0.363742 -3.136443  \n",
       "3            -0.363742 -3.283433  \n",
       "4            -0.363742 -2.172995  \n",
       "...                ...       ...  \n",
       "2153         -0.363742  0.874534  \n",
       "2154         -0.363742  0.200786  \n",
       "2155         -0.363742  1.577329  \n",
       "2156         -0.363742  5.940541  \n",
       "2157         -0.363742  1.577329  \n",
       "\n",
       "[2158 rows x 6 columns]"
      ]
     },
     "execution_count": 21,
     "metadata": {},
     "output_type": "execute_result"
    }
   ],
   "source": [
    "df2"
   ]
  },
  {
   "cell_type": "code",
   "execution_count": 2,
   "id": "15ac5f1c",
   "metadata": {},
   "outputs": [],
   "source": [
    "import pandas as pd\n",
    "\n",
    "df = pd.read_csv('C:/Users/Aayush Adhikari/_directory/rasa_beginner/actions/lap25.csv')\n",
    "df2 = pd.read_csv('C:/Users/Aayush Adhikari/_directory/rasa_beginner/actions/lap28.csv')\n",
    "cols = ['brand', 'laptop_name', 'price', 'type', 'style', 'screen_size', 'cpu_type', \n",
    "        'gpu/vpu', 'memory', 'memory_speed', 'storage_spec', 'ssd', 'operating_system', \n",
    "        'resolution', 'dimensions_(w_x_d_h)', 'weight', 'date_first_available']"
   ]
  },
  {
   "cell_type": "code",
   "execution_count": null,
   "id": "1483908e",
   "metadata": {},
   "outputs": [],
   "source": []
  },
  {
   "cell_type": "code",
   "execution_count": 17,
   "id": "fed90b71",
   "metadata": {},
   "outputs": [],
   "source": [
    "def get_rec(price, usecase=None, brand=None, screen_size_name=None):\n",
    "    if screen_size_name:\n",
    "        screen_size_dict = {\"10 inch\": [10.1, 10.5], \"11 inch\": [11.6], \"12 inch\": [12.3, 12.5],\n",
    "                            \"13 inch\": [13., 13.3, 13.4, 13.5], \"14 inch\": [14.], \"15 inch\": [15., 15.6],\n",
    "                            \"16 inch\": [16., 16.1], \"17 inch\": [17.3]} \n",
    "        screen_size = screen_size_dict[screen_size_name]\n",
    "    if brand and usecase and screen_size_name:\n",
    "        ind = df.index[(df['type'] == usecase) & (df['price'] >= (price - 10000)) & (df['price'] <= (price + 10000)) & (df['brand'] == brand) & (df['screen_size_score'].isin(screen_size))]\n",
    "    elif brand and usecase:\n",
    "        ind = df.index[(df['type'] == usecase) & (df['price'] >= (price - 10000)) & (df['price'] <= (price + 10000)) & (df['brand'] == brand)]\n",
    "    elif brand and screen_size_name:\n",
    "        ind = df.index[(df['price'] >= (price - 10000)) & (df['price'] <= (price + 10000)) & (df['brand'] == brand) & (df['screen_size_score'].isin(screen_size))]\n",
    "    elif usecase and screen_size_name:\n",
    "        ind = df.index[(df['type'] == usecase) & (df['price'] >= (price - 10000)) & (df['price'] <= (price + 10000)) & (df['screen_size_score'].isin(screen_size))]\n",
    "    elif usecase:\n",
    "        ind = df.index[(df['type'] == usecase) & (df['price'] >= (price - 10000)) & (df['price'] <= (price + 10000))]\n",
    "    elif brand:\n",
    "        ind = df.index[(df['brand'] == brand) & (df['price'] >= (price - 10000)) & (df['price'] <= (price + 10000))]\n",
    "    elif screen_size_name:\n",
    "        ind = df.index[(df['screen_size_score'].isin(screen_size)) & (df['price'] >= (price - 10000)) & (df['price'] <= (price + 10000))]\n",
    "    else:\n",
    "        ind = df.index[(df['price'] >= (price - 10000)) & (df['price'] <= (price + 10000))]\n",
    "    \n",
    "    ind2 = df2.loc[ind, 'total'].sort_values(ascending=False).index[:5]\n",
    "    length = len(ind2)\n",
    "    \n",
    "    if length < 5:\n",
    "        next = None\n",
    "        if brand and usecase and screen_size_name:\n",
    "            ind = df.index[((df['brand'] == brand) | (df['type'] == usecase) | (df['screen_size_score'].isin(screen_size))) & (df['price'] >= (price - 10000)) & (df['price'] <= (price + 10000))]\n",
    "            next = 1\n",
    "                    \n",
    "        elif brand and usecase:\n",
    "            ind = df.index[((df['type'] == usecase) | (df['brand'] == brand)) & (df['price'] >= (price - 10000)) & (df['price'] <= (price + 10000))]\n",
    "            next = 1\n",
    "            \n",
    "        elif usecase and screen_size_name:\n",
    "            ind = df.index[((df['type'] == usecase) | (df['screen_size_score'].isin(screen_size))) & (df['price'] >= (price - 10000)) & (df['price'] <= (price + 10000))]\n",
    "            next = 1\n",
    "            \n",
    "        elif brand and screen_size_name:\n",
    "            ind = df.index[((df['brand'] == brand) | (df['screen_size_score'].isin(screen_size))) & (df['price'] >= (price - 10000)) & (df['price'] <= (price + 10000))]\n",
    "            next = 1\n",
    "         \n",
    "        if next:\n",
    "            ind3 = ind[~ind.isin(ind2)]\n",
    "            ind2 = ind2.append(df2.loc[ind3, 'total'].sort_values(ascending=False).index[:(5 - length)])\n",
    "            length = len(ind2)\n",
    "            \n",
    "        if (length < 5) and (brand or usecase or screen_size_name):\n",
    "            ind = df.index[(df['price'] >= (price - 10000)) & (df['price'] <= (price + 10000))]\n",
    "            ind3 = ind[~ind.isin(ind2)]\n",
    "            ind2 = ind2.append(df2.loc[ind3, 'total'].sort_values(ascending=False).index[:(5 - length)])\n",
    "            length = len(ind2)\n",
    "            \n",
    "        if (length < 5) or (price and not(usecase or brand or screen_size_name)):\n",
    "            ind = df.index[df['price'] <= (price + 10000)]\n",
    "            ind3 = ind[~ind.isin(ind2)]\n",
    "            ind2 = ind2.append(df2.loc[ind3, 'total'].sort_values(ascending=False).index[:(5 - length)])\n",
    "            length = len(ind2)\n",
    "\n",
    "        if length == 0:\n",
    "            return \"No laptop found that meets any of the entered criteria.\"\n",
    "     \n",
    "#     ax = plt.subplot(111, frame_on=False) # no visible frame\n",
    "#     ax.xaxis.set_visible(False)  # hide the x axis\n",
    "#     ax.yaxis.set_visible(False)  # hide the y axis\n",
    "#     tb = table(ax, df.loc[ind2, cols])\n",
    "#     tb.auto_set_font_size(False)\n",
    "#     tb.set_fontsize(14)\n",
    "#     tb.auto_set_column_width(col=list(range(len(df.columns))))\n",
    "#     tb.scale(2, 2)\n",
    "#     plt.savefig('C:/Users/Aayush Adhikari/_directory/minor_project/img/lap_rec.png', bbox_inches='tight')\n",
    "    return df.loc[ind2, cols].to_dict(\"records\")"
   ]
  },
  {
   "cell_type": "code",
   "execution_count": 57,
   "id": "33395990",
   "metadata": {},
   "outputs": [
    {
     "name": "stdout",
     "output_type": "stream",
     "text": [
      "[{'brand': 'asus', 'laptop_name': 'ZenBook Flip 15', 'price': 147600.0, 'type': 'home_personal', 'style': 'Convertible', 'screen_size': '15.6\"', 'cpu_type': 'Intel Core i7 11th Gen', 'gpu/vpu': 'NVIDIA GeForce GTX 1650', 'memory': '16GB', 'memory_speed': 'DDR4', 'storage_spec': '512GB PCIe SSD+32GB Optane', 'ssd': '512 GB', 'operating_system': 'Windows 10 Home', 'resolution': '1920x1080', 'dimensions_(w_x_d_h)': nan, 'weight': nan, 'date_first_available': 'January 05, 2022'}, {'brand': 'asus', 'laptop_name': 'ZenBook Flip 15', 'price': 146374.4, 'type': 'home_personal', 'style': 'Convertible', 'screen_size': '15.6\"', 'cpu_type': 'Intel Core i7 11th Gen', 'gpu/vpu': 'NVIDIA GeForce GTX 1650', 'memory': '16GB', 'memory_speed': 'DDR4', 'storage_spec': '512GB PCIe SSD+32GB Optane', 'ssd': '512 GB', 'operating_system': 'Windows 10 Home', 'resolution': '1920x1080', 'dimensions_(w_x_d_h)': nan, 'weight': nan, 'date_first_available': 'December 30, 2021'}, {'brand': 'asus', 'laptop_name': 'VivoBook F513', 'price': 143641.6, 'type': 'home_personal', 'style': nan, 'screen_size': '15.6\"', 'cpu_type': 'Intel Core i5 11th Gen', 'gpu/vpu': 'Intel Iris Xe Graphics', 'memory': '24GB', 'memory_speed': 'DDR4 2400', 'storage_spec': '2TB NVMe SSD', 'ssd': '2 TB', 'operating_system': 'Windows 10 Pro', 'resolution': '1920 x 1080', 'dimensions_(w_x_d_h)': '9.45\" x 14.37\" x 0.74\"', 'weight': '3 - 3.9 lbs.', 'date_first_available': 'November 12, 2021'}, {'brand': 'asus', 'laptop_name': 'VivoBook Pro K3500PH-DB51', 'price': 143494.4, 'type': 'home_personal', 'style': 'Thin and Light', 'screen_size': '15.6\"', 'cpu_type': 'Intel Core i5 11th Gen', 'gpu/vpu': 'NVIDIA GeForce GTX 1650 Max-Q', 'memory': '8GB', 'memory_speed': nan, 'storage_spec': nan, 'ssd': '512 GB PCIe', 'operating_system': 'Windows 11 Home 64-bit', 'resolution': '1920 x 1080', 'dimensions_(w_x_d_h)': '14.17\" x 9.26\" x 0.74\"-0.78\"', 'weight': '3.64 lbs.', 'date_first_available': 'December 29, 2021'}, {'brand': 'asus', 'laptop_name': 'VivoBook K513EQ-PB79', 'price': 158574.40000000002, 'type': 'home_personal', 'style': 'Thin and Light', 'screen_size': '15.6\"', 'cpu_type': 'Intel Core i7 11th Gen', 'gpu/vpu': 'NVIDIA GeForce MX350', 'memory': '16GB', 'memory_speed': nan, 'storage_spec': '512 GB M.2 NVMe PCIe 3.0 SSDStorage Support:1 x M.2 2280 PCIe 3.0x21 x STD 2.5\" SATA HDD', 'ssd': '512 GB PCIe', 'operating_system': 'Windows 10 Home 64-bit', 'resolution': '1920 x 1080', 'dimensions_(w_x_d_h)': '14.13\" x 9.25\" x 0.70\"', 'weight': '3.97 lbs.', 'date_first_available': 'November 09, 2021'}]\n",
      "asus ZenBook Flip 15\n",
      "asus ZenBook Flip 15\n",
      "asus VivoBook F513\n",
      "asus VivoBook Pro K3500PH-DB51\n",
      "asus VivoBook K513EQ-PB79\n"
     ]
    },
    {
     "data": {
      "text/plain": [
       "'brand: asus, laptop_name: ZenBook Flip 15, price: 147600.0, type: home_personal, style: Convertible, screen_size: 15.6\\\\, cpu_type: Intel Core i7 11th Gen, gpu/vpu: NVIDIA GeForce GTX 1650, memory: 16GB, memory_speed: DDR4, storage_spec: 512GB PCIe SSD+32GB Optane, ssd: 512 GB, operating_system: Windows 10 Home, resolution: 1920x1080, dimensions_(w_x_d_h): NaN, weight: NaN, date_first_available: January 05, 2022'"
      ]
     },
     "execution_count": 57,
     "metadata": {},
     "output_type": "execute_result"
    }
   ],
   "source": [
    "import json\n",
    "import re\n",
    "out = get_rec(150000, usecase='home_personal', brand=\"asus\", screen_size_name=\"15 inch\")\n",
    "print(out)\n",
    "for i in range(len(out)):\n",
    "    print(out[i]['brand'] + ' ' + out[i]['laptop_name'])\n",
    "str(out[0])\n",
    "re.sub(r'${\"}^', '', json.dumps(out[0]))\n",
    "json.dumps(out[0]).replace(r'{', '').replace('\\\"', '').replace(r'}', '')\n"
   ]
  },
  {
   "cell_type": "code",
   "execution_count": 6,
   "id": "0baf685b",
   "metadata": {},
   "outputs": [
    {
     "data": {
      "image/png": "[encoded data removed]",
      "text/plain": [
       "<Figure size 432x288 with 1 Axes>"
      ]
     },
     "metadata": {
      "needs_background": "light"
     },
     "output_type": "display_data"
    }
   ],
   "source": [
    "import matplotlib.pyplot as plt\n",
    "import pandas as pd\n",
    "from pandas.plotting import table \n",
    "\n",
    "ax = plt.subplot(111, frame_on=False) # no visible frame\n",
    "ax.xaxis.set_visible(False)  # hide the x axis\n",
    "ax.yaxis.set_visible(False)  # hide the y axis\n",
    "df = pd.DataFrame({'A': ['a', 'b', 'a'], 'B': ['b', 'a', 'c'],\n",
    "                   'C': [1, 2, 3]})\n",
    "table(ax, df)  # where df is your data frame\n",
    "\n",
    "plt.savefig('mytable.png')"
   ]
  },
  {
   "cell_type": "code",
   "execution_count": 3,
   "id": "617c75b9",
   "metadata": {},
   "outputs": [],
   "source": [
    "df12 = pd.read_csv('C:/Users/Aayush Adhikari/_directory/rasa_beginner/actions/lap25.csv')"
   ]
  }
 ],
 "metadata": {
  "kernelspec": {
   "display_name": "Anaconda (base)",
   "language": "python",
   "name": "anaconda-base"
  },
  "language_info": {
   "codemirror_mode": {
    "name": "ipython",
    "version": 3
   },
   "file_extension": ".py",
   "mimetype": "text/x-python",
   "name": "python",
   "nbconvert_exporter": "python",
   "pygments_lexer": "ipython3",
   "version": "3.8.8"
  }
 },
 "nbformat": 4,
 "nbformat_minor": 5
}
